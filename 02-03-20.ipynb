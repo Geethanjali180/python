{
 "cells": [
  {
   "cell_type": "code",
   "execution_count": 1,
   "metadata": {},
   "outputs": [],
   "source": [
    "userSays = ['what about fee structure?',\n",
    "'what is the fee for B.Tech program?',\n",
    "'what is the fee for UG?',\n",
    "'what is the fee for specific branch?',\n",
    "'Fee details for B.Tech?',\n",
    "'what is the fee applicable after concession?',\n",
    "'what is the fee structure if my EAMCET rank is below 3000?',\n",
    "'fee details if my plus 2 marks are above 965?',\n",
    "'what is the fee for core branches?',\n",
    "'what is the fee structure for CSE after concession?',\n",
    "'Fee applicable for CSE if I score below 3000 in eamcet?',\n",
    "'Fee details for ECE if my eamcet rank is below 3000?',\n",
    "'what is the fee structure for ECE after concession?',\n",
    "'Fee details for IT branch if my eamcet rank is below 3000?',\n",
    "'what is the fee structure for IT branch after concession?',\n",
    "'Fee details for mechanical if my eamcet rank is below 3000?',\n",
    "'what is the fee structure for mechanical after concession?',\n",
    "'what is the fee per annum?']"
   ]
  },
  {
   "cell_type": "code",
   "execution_count": 2,
   "metadata": {},
   "outputs": [
    {
     "name": "stdout",
     "output_type": "stream",
     "text": [
      "what about fee structure?\n",
      "what is the fee for B.Tech program?\n",
      "what is the fee for UG?\n",
      "what is the fee for specific branch?\n",
      "Fee details for B.Tech?\n",
      "what is the fee applicable after concession?\n",
      "what is the fee structure if my EAMCET rank is below 3000?\n",
      "fee details if my plus 2 marks are above 965?\n",
      "what is the fee for core branches?\n",
      "what is the fee structure for CSE after concession?\n",
      "Fee applicable for CSE if I score below 3000 in eamcet?\n",
      "Fee details for ECE if my eamcet rank is below 3000?\n",
      "what is the fee structure for ECE after concession?\n",
      "Fee details for IT branch if my eamcet rank is below 3000?\n",
      "what is the fee structure for IT branch after concession?\n",
      "Fee details for mechanical if my eamcet rank is below 3000?\n",
      "what is the fee structure for mechanical after concession?\n",
      "what is the fee per annum?\n"
     ]
    }
   ],
   "source": [
    "for i in userSays:\n",
    "    print(i)"
   ]
  },
  {
   "cell_type": "code",
   "execution_count": 3,
   "metadata": {},
   "outputs": [],
   "source": [
    "li = []\n",
    "for i in userSays:\n",
    "    li.append({\n",
    "        \"data\": [\n",
    "            {\n",
    "                \"text\": i,\n",
    "                \"userDefined\": False\n",
    "            }\n",
    "        ],\n",
    "        \"isTemplate\": False,\n",
    "        \"count\": 0,\n",
    "        \"updated\": 0\n",
    "    },)"
   ]
  },
  {
   "cell_type": "code",
   "execution_count": 4,
   "metadata": {},
   "outputs": [
    {
     "data": {
      "text/plain": [
       "[{'data': [{'text': 'what about fee structure?', 'userDefined': False}],\n",
       "  'isTemplate': False,\n",
       "  'count': 0,\n",
       "  'updated': 0},\n",
       " {'data': [{'text': 'what is the fee for B.Tech program?',\n",
       "    'userDefined': False}],\n",
       "  'isTemplate': False,\n",
       "  'count': 0,\n",
       "  'updated': 0},\n",
       " {'data': [{'text': 'what is the fee for UG?', 'userDefined': False}],\n",
       "  'isTemplate': False,\n",
       "  'count': 0,\n",
       "  'updated': 0},\n",
       " {'data': [{'text': 'what is the fee for specific branch?',\n",
       "    'userDefined': False}],\n",
       "  'isTemplate': False,\n",
       "  'count': 0,\n",
       "  'updated': 0},\n",
       " {'data': [{'text': 'Fee details for B.Tech?', 'userDefined': False}],\n",
       "  'isTemplate': False,\n",
       "  'count': 0,\n",
       "  'updated': 0},\n",
       " {'data': [{'text': 'what is the fee applicable after concession?',\n",
       "    'userDefined': False}],\n",
       "  'isTemplate': False,\n",
       "  'count': 0,\n",
       "  'updated': 0},\n",
       " {'data': [{'text': 'what is the fee structure if my EAMCET rank is below 3000?',\n",
       "    'userDefined': False}],\n",
       "  'isTemplate': False,\n",
       "  'count': 0,\n",
       "  'updated': 0},\n",
       " {'data': [{'text': 'fee details if my plus 2 marks are above 965?',\n",
       "    'userDefined': False}],\n",
       "  'isTemplate': False,\n",
       "  'count': 0,\n",
       "  'updated': 0},\n",
       " {'data': [{'text': 'what is the fee for core branches?',\n",
       "    'userDefined': False}],\n",
       "  'isTemplate': False,\n",
       "  'count': 0,\n",
       "  'updated': 0},\n",
       " {'data': [{'text': 'what is the fee structure for CSE after concession?',\n",
       "    'userDefined': False}],\n",
       "  'isTemplate': False,\n",
       "  'count': 0,\n",
       "  'updated': 0},\n",
       " {'data': [{'text': 'Fee applicable for CSE if I score below 3000 in eamcet?',\n",
       "    'userDefined': False}],\n",
       "  'isTemplate': False,\n",
       "  'count': 0,\n",
       "  'updated': 0},\n",
       " {'data': [{'text': 'Fee details for ECE if my eamcet rank is below 3000?',\n",
       "    'userDefined': False}],\n",
       "  'isTemplate': False,\n",
       "  'count': 0,\n",
       "  'updated': 0},\n",
       " {'data': [{'text': 'what is the fee structure for ECE after concession?',\n",
       "    'userDefined': False}],\n",
       "  'isTemplate': False,\n",
       "  'count': 0,\n",
       "  'updated': 0},\n",
       " {'data': [{'text': 'Fee details for IT branch if my eamcet rank is below 3000?',\n",
       "    'userDefined': False}],\n",
       "  'isTemplate': False,\n",
       "  'count': 0,\n",
       "  'updated': 0},\n",
       " {'data': [{'text': 'what is the fee structure for IT branch after concession?',\n",
       "    'userDefined': False}],\n",
       "  'isTemplate': False,\n",
       "  'count': 0,\n",
       "  'updated': 0},\n",
       " {'data': [{'text': 'Fee details for mechanical if my eamcet rank is below 3000?',\n",
       "    'userDefined': False}],\n",
       "  'isTemplate': False,\n",
       "  'count': 0,\n",
       "  'updated': 0},\n",
       " {'data': [{'text': 'what is the fee structure for mechanical after concession?',\n",
       "    'userDefined': False}],\n",
       "  'isTemplate': False,\n",
       "  'count': 0,\n",
       "  'updated': 0},\n",
       " {'data': [{'text': 'what is the fee per annum?', 'userDefined': False}],\n",
       "  'isTemplate': False,\n",
       "  'count': 0,\n",
       "  'updated': 0}]"
      ]
     },
     "execution_count": 4,
     "metadata": {},
     "output_type": "execute_result"
    }
   ],
   "source": [
    "li"
   ]
  },
  {
   "cell_type": "markdown",
   "metadata": {},
   "source": [
    "#### ChatbotData Csv to Json"
   ]
  },
  {
   "cell_type": "code",
   "execution_count": 5,
   "metadata": {},
   "outputs": [],
   "source": [
    "userSays = ['what about fee structure?',\n",
    "'what is the fee for B.Tech program?',\n",
    "'what is the fee for UG?',\n",
    "'what is the fee for specific branch?',\n",
    "'Fee details for B.Tech?',\n",
    "'what is the fee applicable after concession?',\n",
    "'what is the fee structure if my EAMCET rank is below 3000?',\n",
    "'fee details if my plus 2 marks are above 965?',\n",
    "'what is the fee for core branches?',\n",
    "'what is the fee structure for CSE after concession?',\n",
    "'Fee applicable for CSE if I score below 3000 in eamcet?',\n",
    "'Fee details for ECE if my eamcet rank is below 3000?',\n",
    "'what is the fee structure for ECE after concession?',\n",
    "'Fee details for IT branch if my eamcet rank is below 3000?',\n",
    "'what is the fee structure for IT branch after concession?',\n",
    "'Fee details for mechanical if my eamcet rank is below 3000?',\n",
    "'what is the fee structure for mechanical after concession?',\n",
    "'what is the fee per annum?']"
   ]
  },
  {
   "cell_type": "code",
   "execution_count": 6,
   "metadata": {},
   "outputs": [],
   "source": [
    "from numpy import nan\n",
    "responses = ['CSE ,ECE, IT, Mechanical --90,000/-',\n",
    "'The fee applicable for all core branches is 90,000',\n",
    "'The fee per annum is 90,000',\n",
    "'The fee should be paid after concession is 90,000',\n",
    "nan,\n",
    "nan,\n",
    "nan,\n",
    "nan,\n",
    "nan,\n",
    "nan,\n",
    "nan,\n",
    "nan,\n",
    "nan,\n",
    "nan,\n",
    "nan,\n",
    "nan,\n",
    "nan,\n",
    "nan]"
   ]
  },
  {
   "cell_type": "markdown",
   "metadata": {},
   "source": [
    "##### read the content of the file Intenttemplate.json and convert it into a dictionary with name content"
   ]
  },
  {
   "cell_type": "code",
   "execution_count": 7,
   "metadata": {},
   "outputs": [],
   "source": [
    "def ReadFile(filename):\n",
    "    f =open(filename,\"r\")\n",
    "    if f.mode== \"r\":\n",
    "        x = f.read()\n",
    "    return x\n",
    "content =ReadFile(\"Intenttemplate.json\")"
   ]
  },
  {
   "cell_type": "code",
   "execution_count": 8,
   "metadata": {},
   "outputs": [],
   "source": [
    "import json\n",
    "# json.loads # srt into dict"
   ]
  },
  {
   "cell_type": "code",
   "execution_count": 9,
   "metadata": {},
   "outputs": [],
   "source": [
    "# json.dumps # dict to string"
   ]
  },
  {
   "cell_type": "code",
   "execution_count": 10,
   "metadata": {},
   "outputs": [],
   "source": [
    "content = json.loads(content)"
   ]
  },
  {
   "cell_type": "code",
   "execution_count": 11,
   "metadata": {},
   "outputs": [
    {
     "data": {
      "text/plain": [
       "{'auto': True,\n",
       " 'contexts': [],\n",
       " 'priority': 500000,\n",
       " 'webhookUsed': False,\n",
       " 'webhookForSlotFilling': False,\n",
       " 'fallbackIntent': False,\n",
       " 'events': [],\n",
       " 'conditionalResponses': [],\n",
       " 'condition': '',\n",
       " 'conditionalFollowupEvents': []}"
      ]
     },
     "execution_count": 11,
     "metadata": {},
     "output_type": "execute_result"
    }
   ],
   "source": [
    "content"
   ]
  },
  {
   "cell_type": "markdown",
   "metadata": {},
   "source": [
    "#### Add the key with name with value Fee to the dictionary content name of the Intent\n",
    "      \"name\": \"Fee\""
   ]
  },
  {
   "cell_type": "code",
   "execution_count": 12,
   "metadata": {},
   "outputs": [],
   "source": [
    "content[\"name\"] = \"Fee\""
   ]
  },
  {
   "cell_type": "code",
   "execution_count": 13,
   "metadata": {},
   "outputs": [
    {
     "data": {
      "text/plain": [
       "{'auto': True,\n",
       " 'contexts': [],\n",
       " 'priority': 500000,\n",
       " 'webhookUsed': False,\n",
       " 'webhookForSlotFilling': False,\n",
       " 'fallbackIntent': False,\n",
       " 'events': [],\n",
       " 'conditionalResponses': [],\n",
       " 'condition': '',\n",
       " 'conditionalFollowupEvents': [],\n",
       " 'name': 'Fee'}"
      ]
     },
     "execution_count": 13,
     "metadata": {},
     "output_type": "execute_result"
    }
   ],
   "source": [
    "content"
   ]
  },
  {
   "cell_type": "markdown",
   "metadata": {},
   "source": [
    "##### Responses for the Intent Format\n",
    "    \"responses\":[\n",
    "    {\n",
    "    \"resetContexts\": false,\n",
    "    \"affectedContexts\": [],\n",
    "    \"parameters\": [],\n",
    "    \"messages\": [\n",
    "    {\n",
    "    \"type\": 0,\n",
    "    \"lang\": \"en\",\n",
    "    \"condition\": \"\",\n",
    "    \"speech\": [\"ANSWER_1\",\"ANSWER_2\",\"ANSWER_3\",\"ANSWER_4\"]\n",
    "    }\n",
    "    ],\n",
    "    \"defaultResponsePlatforms\": {},\n",
    "    \"speech\": []\n",
    "    }\n",
    "    ]\n",
    "##### From the list responses get the elements which are not nan and store them in a list proper_responses\n"
   ]
  },
  {
   "cell_type": "code",
   "execution_count": 14,
   "metadata": {},
   "outputs": [
    {
     "data": {
      "text/plain": [
       "['CSE ,ECE, IT, Mechanical --90,000/-',\n",
       " 'The fee applicable for all core branches is 90,000',\n",
       " 'The fee per annum is 90,000',\n",
       " 'The fee should be paid after concession is 90,000']"
      ]
     },
     "execution_count": 14,
     "metadata": {},
     "output_type": "execute_result"
    }
   ],
   "source": [
    "proper_responses = []\n",
    "for res in responses:\n",
    "    if res is nan:\n",
    "        pass\n",
    "    else:\n",
    "        proper_responses.append(res)\n",
    "proper_responses"
   ]
  },
  {
   "cell_type": "code",
   "execution_count": 15,
   "metadata": {},
   "outputs": [
    {
     "data": {
      "text/plain": [
       "{'auto': True,\n",
       " 'contexts': [],\n",
       " 'priority': 500000,\n",
       " 'webhookUsed': False,\n",
       " 'webhookForSlotFilling': False,\n",
       " 'fallbackIntent': False,\n",
       " 'events': [],\n",
       " 'conditionalResponses': [],\n",
       " 'condition': '',\n",
       " 'conditionalFollowupEvents': [],\n",
       " 'name': 'Fee',\n",
       " 'responses': [{'resetContexts': False,\n",
       "   'affectedContexts': [],\n",
       "   'parameters': [],\n",
       "   'messages': [{'type': 0,\n",
       "     'lang': 'en',\n",
       "     'condition': '',\n",
       "     'speech': ['CSE ,ECE, IT, Mechanical --90,000/-',\n",
       "      'The fee applicable for all core branches is 90,000',\n",
       "      'The fee per annum is 90,000',\n",
       "      'The fee should be paid after concession is 90,000']}],\n",
       "   'defaultResponsePlatforms': {},\n",
       "   'speech': ['CSE ,ECE, IT, Mechanical --90,000/-',\n",
       "    'The fee applicable for all core branches is 90,000',\n",
       "    'The fee per annum is 90,000',\n",
       "    'The fee should be paid after concession is 90,000']}]}"
      ]
     },
     "execution_count": 15,
     "metadata": {},
     "output_type": "execute_result"
    }
   ],
   "source": [
    "content[\"responses\"] = [\n",
    "    {\n",
    "        \"resetContexts\": False,\n",
    "        \"affectedContexts\": [],\n",
    "        \"parameters\": [],\n",
    "        \"messages\": [\n",
    "            {\n",
    "                \"type\": 0,\n",
    "                \"lang\": \"en\",\n",
    "                \"condition\": \"\",\n",
    "                \"speech\": [\"CSE ,ECE, IT, Mechanical --90,000/-\",\"The fee applicable for all core branches is 90,000\",\"The fee per annum is 90,000\",\"The fee should be paid after concession is 90,000\"]\n",
    "            }\n",
    "        ],\n",
    "        \"defaultResponsePlatforms\": {},\n",
    "        \"speech\": [\"CSE ,ECE, IT, Mechanical --90,000/-\",\"The fee applicable for all core branches is 90,000\",\"The fee per annum is 90,000\",\"The fee should be paid after concession is 90,000\"]\n",
    "    }\n",
    "]\n",
    "content"
   ]
  },
  {
   "cell_type": "markdown",
   "metadata": {},
   "source": [
    "#### Replace the values in\n",
    "    \"speech\": [\"ANSWER_1\",\"ANSWER_2\",\"ANSWER_3\",\"ANSWER_4\"]\n",
    "          to proper_responses list"
   ]
  },
  {
   "cell_type": "code",
   "execution_count": 16,
   "metadata": {},
   "outputs": [
    {
     "data": {
      "text/plain": [
       "{'auto': True,\n",
       " 'contexts': [],\n",
       " 'priority': 500000,\n",
       " 'webhookUsed': False,\n",
       " 'webhookForSlotFilling': False,\n",
       " 'fallbackIntent': False,\n",
       " 'events': [],\n",
       " 'conditionalResponses': [],\n",
       " 'condition': '',\n",
       " 'conditionalFollowupEvents': [],\n",
       " 'name': 'Fee',\n",
       " 'responses': [{'resetContexts': False,\n",
       "   'affectedContexts': [],\n",
       "   'parameters': [],\n",
       "   'messages': [{'type': 0,\n",
       "     'lang': 'en',\n",
       "     'condition': '',\n",
       "     'speech': ['CSE ,ECE, IT, Mechanical --90,000/-',\n",
       "      'The fee applicable for all core branches is 90,000',\n",
       "      'The fee per annum is 90,000',\n",
       "      'The fee should be paid after concession is 90,000']}],\n",
       "   'defaultResponsePlatforms': {},\n",
       "   'speech': ['CSE ,ECE, IT, Mechanical --90,000/-',\n",
       "    'The fee applicable for all core branches is 90,000',\n",
       "    'The fee per annum is 90,000',\n",
       "    'The fee should be paid after concession is 90,000']}]}"
      ]
     },
     "execution_count": 16,
     "metadata": {},
     "output_type": "execute_result"
    }
   ],
   "source": [
    "content"
   ]
  },
  {
   "cell_type": "markdown",
   "metadata": {},
   "source": [
    "##### Add the key \"responses\" with modilfied values of speech to content"
   ]
  },
  {
   "cell_type": "code",
   "execution_count": 17,
   "metadata": {},
   "outputs": [],
   "source": [
    "content[\"userSays\"] = [\n",
    "    {\n",
    "        \"data\": [\n",
    "            {\n",
    "                \"text\": \"what about fee structure?\",\n",
    "                \"userDefined\": False\n",
    "            }\n",
    "        ],\n",
    "        \"isTemplate\": False,\n",
    "        \"count\": 0,\n",
    "        \"updated\": 0\n",
    "    },\n",
    "    {\n",
    "        \"data\": [\n",
    "            {\n",
    "                \"text\": \"what is the fee for B.Tech program?\",\n",
    "                \"userDefined\": False\n",
    "            }\n",
    "        ],\n",
    "        \"isTemplate\": False,\n",
    "        \"count\": 0,\n",
    "        \"updated\": 0\n",
    "    },\n",
    "    {\n",
    "        \"data\": [\n",
    "            {\n",
    "                \"text\": \"what is the fee for UG?\",\n",
    "                \"userDefined\": False\n",
    "            }\n",
    "        ],\n",
    "        \"isTemplate\": False,\n",
    "        \"count\": 0,\n",
    "        \"updated\": 0\n",
    "    },\n",
    "    {\n",
    "        \"data\": [\n",
    "            {\n",
    "                \"text\": \"what is the fee for specific branch?\",\n",
    "                \"userDefined\": False\n",
    "            }\n",
    "        ],\n",
    "        \"isTemplate\": False,\n",
    "        \"count\": 0,\n",
    "        \"updated\": 0\n",
    "    },\n",
    "    {\n",
    "        \"data\": [\n",
    "            {\n",
    "                \"text\": \"Fee details for B.Tech?\",\n",
    "                \"userDefined\": False\n",
    "            }\n",
    "        ],\n",
    "        \"isTemplate\": False,\n",
    "        \"count\": 0,\n",
    "        \"updated\": 0\n",
    "    },\n",
    "    {\n",
    "        \"data\": [\n",
    "            {\n",
    "                \"text\": \"what is the fee applicable after concession?\",\n",
    "                \"userDefined\": False\n",
    "            }\n",
    "        ],\n",
    "        \"isTemplate\": False,\n",
    "        \"count\": 0,\n",
    "        \"updated\": 0\n",
    "    },\n",
    "    {\n",
    "        \"data\": [\n",
    "            {\n",
    "                \"text\": \"Question_3?\",\n",
    "                \"userDefined\": False\n",
    "            }\n",
    "        ],\n",
    "        \"isTemplate\": False,\n",
    "        \"count\": 0,\n",
    "        \"updated\": 0\n",
    "    },\n",
    "    {\n",
    "        \"data\": [\n",
    "            {\n",
    "                \"text\": \"what is the fee structure if my EAMCET rank is below 3000?\",\n",
    "                \"userDefined\": False\n",
    "            }\n",
    "        ],\n",
    "        \"isTemplate\": False,\n",
    "        \"count\": 0,\n",
    "        \"updated\": 0\n",
    "    },\n",
    "    {\n",
    "        \"data\": [\n",
    "            {\n",
    "                \"text\": \"fee details if my plus 2 marks are above 965?\",\n",
    "                \"userDefined\": False\n",
    "            }\n",
    "        ],\n",
    "        \"isTemplate\": False,\n",
    "        \"count\": 0,\n",
    "        \"updated\": 0\n",
    "    },\n",
    "    {\n",
    "        \"data\": [\n",
    "            {\n",
    "                \"text\": \"what is the fee for core branches?\",\n",
    "                \"userDefined\": False\n",
    "            }\n",
    "        ],\n",
    "        \"isTemplate\": False,\n",
    "        \"count\": 0,\n",
    "        \"updated\": 0\n",
    "    },\n",
    "    {\n",
    "        \"data\": [\n",
    "            {\n",
    "                \"text\": \"what is the fee structure for CSE after concession?\",\n",
    "                \"userDefined\": False\n",
    "            }\n",
    "        ],\n",
    "        \"isTemplate\": False,\n",
    "        \"count\": 0,\n",
    "        \"updated\": 0\n",
    "    },\n",
    "    {\n",
    "        \"data\": [\n",
    "            {\n",
    "                \"text\": \"Fee applicable for CSE if I score below 3000 in eamcet?\",\n",
    "                \"userDefined\": False\n",
    "            }\n",
    "        ],\n",
    "        \"isTemplate\": False,\n",
    "        \"count\": 0,\n",
    "        \"updated\": 0\n",
    "    },\n",
    "    {\n",
    "        \"data\": [\n",
    "            {\n",
    "                \"text\": \"Fee details for ECE if my eamcet rank is below 3000?\",\n",
    "                \"userDefined\": False\n",
    "            }\n",
    "        ],\n",
    "        \"isTemplate\": False,\n",
    "        \"count\": 0,\n",
    "        \"updated\": 0\n",
    "    },\n",
    "    {\n",
    "        \"data\": [\n",
    "            {\n",
    "                \"text\": \"what is the fee structure for ECE after concession?\",\n",
    "                \"userDefined\": False\n",
    "            }\n",
    "        ],\n",
    "        \"isTemplate\": False,\n",
    "        \"count\": 0,\n",
    "        \"updated\": 0\n",
    "    },\n",
    "    {\n",
    "        \"data\": [\n",
    "            {\n",
    "                \"text\": \"Fee details for IT branch if my eamcet rank is below 3000?\",\n",
    "                \"userDefined\": False\n",
    "            }\n",
    "        ],\n",
    "        \"isTemplate\": False,\n",
    "        \"count\": 0,\n",
    "        \"updated\": 0\n",
    "    },\n",
    "    {\n",
    "        \"data\": [\n",
    "            {\n",
    "                \"text\": \"what is the fee structure for IT branch after concession?\",\n",
    "                \"userDefined\": False\n",
    "            }\n",
    "        ],\n",
    "        \"isTemplate\": False,\n",
    "        \"count\": 0,\n",
    "        \"updated\": 0\n",
    "    },\n",
    "    {\n",
    "        \"data\": [\n",
    "            {\n",
    "                \"text\": \"Fee details for mechanical if my eamcet rank is below 3000?\",\n",
    "                \"userDefined\": False\n",
    "            }\n",
    "        ],\n",
    "        \"isTemplate\": False,\n",
    "        \"count\": 0,\n",
    "        \"updated\": 0\n",
    "    },\n",
    "    {\n",
    "        \"data\": [\n",
    "            {\n",
    "                \"text\": \"what is the fee structure for mechanical after concession?\",\n",
    "                \"userDefined\": False\n",
    "            }\n",
    "        ],\n",
    "        \"isTemplate\": False,\n",
    "        \"count\": 0,\n",
    "        \"updated\": 0\n",
    "    },\n",
    "    {\n",
    "        \"data\": [\n",
    "            {\n",
    "                \"text\": \"what is the fee per annum?\",\n",
    "                \"userDefined\": False\n",
    "            }\n",
    "        ],\n",
    "        \"isTemplate\": False,\n",
    "        \"count\": 0,\n",
    "        \"updated\": 0\n",
    "    }\n",
    "]"
   ]
  },
  {
   "cell_type": "code",
   "execution_count": 18,
   "metadata": {},
   "outputs": [
    {
     "data": {
      "text/plain": [
       "{'auto': True,\n",
       " 'contexts': [],\n",
       " 'priority': 500000,\n",
       " 'webhookUsed': False,\n",
       " 'webhookForSlotFilling': False,\n",
       " 'fallbackIntent': False,\n",
       " 'events': [],\n",
       " 'conditionalResponses': [],\n",
       " 'condition': '',\n",
       " 'conditionalFollowupEvents': [],\n",
       " 'name': 'Fee',\n",
       " 'responses': [{'resetContexts': False,\n",
       "   'affectedContexts': [],\n",
       "   'parameters': [],\n",
       "   'messages': [{'type': 0,\n",
       "     'lang': 'en',\n",
       "     'condition': '',\n",
       "     'speech': ['CSE ,ECE, IT, Mechanical --90,000/-',\n",
       "      'The fee applicable for all core branches is 90,000',\n",
       "      'The fee per annum is 90,000',\n",
       "      'The fee should be paid after concession is 90,000']}],\n",
       "   'defaultResponsePlatforms': {},\n",
       "   'speech': ['CSE ,ECE, IT, Mechanical --90,000/-',\n",
       "    'The fee applicable for all core branches is 90,000',\n",
       "    'The fee per annum is 90,000',\n",
       "    'The fee should be paid after concession is 90,000']}],\n",
       " 'userSays': [{'data': [{'text': 'what about fee structure?',\n",
       "     'userDefined': False}],\n",
       "   'isTemplate': False,\n",
       "   'count': 0,\n",
       "   'updated': 0},\n",
       "  {'data': [{'text': 'what is the fee for B.Tech program?',\n",
       "     'userDefined': False}],\n",
       "   'isTemplate': False,\n",
       "   'count': 0,\n",
       "   'updated': 0},\n",
       "  {'data': [{'text': 'what is the fee for UG?', 'userDefined': False}],\n",
       "   'isTemplate': False,\n",
       "   'count': 0,\n",
       "   'updated': 0},\n",
       "  {'data': [{'text': 'what is the fee for specific branch?',\n",
       "     'userDefined': False}],\n",
       "   'isTemplate': False,\n",
       "   'count': 0,\n",
       "   'updated': 0},\n",
       "  {'data': [{'text': 'Fee details for B.Tech?', 'userDefined': False}],\n",
       "   'isTemplate': False,\n",
       "   'count': 0,\n",
       "   'updated': 0},\n",
       "  {'data': [{'text': 'what is the fee applicable after concession?',\n",
       "     'userDefined': False}],\n",
       "   'isTemplate': False,\n",
       "   'count': 0,\n",
       "   'updated': 0},\n",
       "  {'data': [{'text': 'Question_3?', 'userDefined': False}],\n",
       "   'isTemplate': False,\n",
       "   'count': 0,\n",
       "   'updated': 0},\n",
       "  {'data': [{'text': 'what is the fee structure if my EAMCET rank is below 3000?',\n",
       "     'userDefined': False}],\n",
       "   'isTemplate': False,\n",
       "   'count': 0,\n",
       "   'updated': 0},\n",
       "  {'data': [{'text': 'fee details if my plus 2 marks are above 965?',\n",
       "     'userDefined': False}],\n",
       "   'isTemplate': False,\n",
       "   'count': 0,\n",
       "   'updated': 0},\n",
       "  {'data': [{'text': 'what is the fee for core branches?',\n",
       "     'userDefined': False}],\n",
       "   'isTemplate': False,\n",
       "   'count': 0,\n",
       "   'updated': 0},\n",
       "  {'data': [{'text': 'what is the fee structure for CSE after concession?',\n",
       "     'userDefined': False}],\n",
       "   'isTemplate': False,\n",
       "   'count': 0,\n",
       "   'updated': 0},\n",
       "  {'data': [{'text': 'Fee applicable for CSE if I score below 3000 in eamcet?',\n",
       "     'userDefined': False}],\n",
       "   'isTemplate': False,\n",
       "   'count': 0,\n",
       "   'updated': 0},\n",
       "  {'data': [{'text': 'Fee details for ECE if my eamcet rank is below 3000?',\n",
       "     'userDefined': False}],\n",
       "   'isTemplate': False,\n",
       "   'count': 0,\n",
       "   'updated': 0},\n",
       "  {'data': [{'text': 'what is the fee structure for ECE after concession?',\n",
       "     'userDefined': False}],\n",
       "   'isTemplate': False,\n",
       "   'count': 0,\n",
       "   'updated': 0},\n",
       "  {'data': [{'text': 'Fee details for IT branch if my eamcet rank is below 3000?',\n",
       "     'userDefined': False}],\n",
       "   'isTemplate': False,\n",
       "   'count': 0,\n",
       "   'updated': 0},\n",
       "  {'data': [{'text': 'what is the fee structure for IT branch after concession?',\n",
       "     'userDefined': False}],\n",
       "   'isTemplate': False,\n",
       "   'count': 0,\n",
       "   'updated': 0},\n",
       "  {'data': [{'text': 'Fee details for mechanical if my eamcet rank is below 3000?',\n",
       "     'userDefined': False}],\n",
       "   'isTemplate': False,\n",
       "   'count': 0,\n",
       "   'updated': 0},\n",
       "  {'data': [{'text': 'what is the fee structure for mechanical after concession?',\n",
       "     'userDefined': False}],\n",
       "   'isTemplate': False,\n",
       "   'count': 0,\n",
       "   'updated': 0},\n",
       "  {'data': [{'text': 'what is the fee per annum?', 'userDefined': False}],\n",
       "   'isTemplate': False,\n",
       "   'count': 0,\n",
       "   'updated': 0}]}"
      ]
     },
     "execution_count": 18,
     "metadata": {},
     "output_type": "execute_result"
    }
   ],
   "source": [
    "content"
   ]
  },
  {
   "cell_type": "markdown",
   "metadata": {},
   "source": [
    "##### Format forUserSays for the intent\n",
    "    \"userSays\":[\n",
    "    {\n",
    "    \"data\": [\n",
    "    {\n",
    "    \"text\": \"Question_1\",\n",
    "    \"userDefined\": false\n",
    "    }\n",
    "    ],\n",
    "    \"isTemplate\": false,\n",
    "    \"count\": 0,\n",
    "    \"updated\": 0\n",
    "    },\n",
    "    {\n",
    "    \"data\": [\n",
    "    {\n",
    "    \"text\": \"Question_2\",\n",
    "    \"userDefined\": false\n",
    "    }\n",
    "    ],\n",
    "    \"isTemplate\": false,\n",
    "    \"count\": 0,\n",
    "    \"updated\": 0\n",
    "    },\n",
    "    {\n",
    "    \"data\": [\n",
    "    {\n",
    "    \"text\": \"Question_3?\",\n",
    "    \"userDefined\": false\n",
    "    }\n",
    "    ],\n",
    "    \"isTemplate\": false,\n",
    "    \"count\": 0,\n",
    "    \"updated\": 0\n",
    "    }\n",
    "    ]\n",
    "##### Add key \"userSays\" in the dictionary content with the questions in the userSays list"
   ]
  },
  {
   "cell_type": "markdown",
   "metadata": {},
   "source": [
    "##### Convert the dictionary content to a string"
   ]
  },
  {
   "cell_type": "code",
   "execution_count": 19,
   "metadata": {},
   "outputs": [],
   "source": [
    "content = json.dumps(content)"
   ]
  },
  {
   "cell_type": "code",
   "execution_count": 20,
   "metadata": {},
   "outputs": [
    {
     "data": {
      "text/plain": [
       "'{\"auto\": true, \"contexts\": [], \"priority\": 500000, \"webhookUsed\": false, \"webhookForSlotFilling\": false, \"fallbackIntent\": false, \"events\": [], \"conditionalResponses\": [], \"condition\": \"\", \"conditionalFollowupEvents\": [], \"name\": \"Fee\", \"responses\": [{\"resetContexts\": false, \"affectedContexts\": [], \"parameters\": [], \"messages\": [{\"type\": 0, \"lang\": \"en\", \"condition\": \"\", \"speech\": [\"CSE ,ECE, IT, Mechanical --90,000/-\", \"The fee applicable for all core branches is 90,000\", \"The fee per annum is 90,000\", \"The fee should be paid after concession is 90,000\"]}], \"defaultResponsePlatforms\": {}, \"speech\": [\"CSE ,ECE, IT, Mechanical --90,000/-\", \"The fee applicable for all core branches is 90,000\", \"The fee per annum is 90,000\", \"The fee should be paid after concession is 90,000\"]}], \"userSays\": [{\"data\": [{\"text\": \"what about fee structure?\", \"userDefined\": false}], \"isTemplate\": false, \"count\": 0, \"updated\": 0}, {\"data\": [{\"text\": \"what is the fee for B.Tech program?\", \"userDefined\": false}], \"isTemplate\": false, \"count\": 0, \"updated\": 0}, {\"data\": [{\"text\": \"what is the fee for UG?\", \"userDefined\": false}], \"isTemplate\": false, \"count\": 0, \"updated\": 0}, {\"data\": [{\"text\": \"what is the fee for specific branch?\", \"userDefined\": false}], \"isTemplate\": false, \"count\": 0, \"updated\": 0}, {\"data\": [{\"text\": \"Fee details for B.Tech?\", \"userDefined\": false}], \"isTemplate\": false, \"count\": 0, \"updated\": 0}, {\"data\": [{\"text\": \"what is the fee applicable after concession?\", \"userDefined\": false}], \"isTemplate\": false, \"count\": 0, \"updated\": 0}, {\"data\": [{\"text\": \"Question_3?\", \"userDefined\": false}], \"isTemplate\": false, \"count\": 0, \"updated\": 0}, {\"data\": [{\"text\": \"what is the fee structure if my EAMCET rank is below 3000?\", \"userDefined\": false}], \"isTemplate\": false, \"count\": 0, \"updated\": 0}, {\"data\": [{\"text\": \"fee details if my plus 2 marks are above 965?\", \"userDefined\": false}], \"isTemplate\": false, \"count\": 0, \"updated\": 0}, {\"data\": [{\"text\": \"what is the fee for core branches?\", \"userDefined\": false}], \"isTemplate\": false, \"count\": 0, \"updated\": 0}, {\"data\": [{\"text\": \"what is the fee structure for CSE after concession?\", \"userDefined\": false}], \"isTemplate\": false, \"count\": 0, \"updated\": 0}, {\"data\": [{\"text\": \"Fee applicable for CSE if I score below 3000 in eamcet?\", \"userDefined\": false}], \"isTemplate\": false, \"count\": 0, \"updated\": 0}, {\"data\": [{\"text\": \"Fee details for ECE if my eamcet rank is below 3000?\", \"userDefined\": false}], \"isTemplate\": false, \"count\": 0, \"updated\": 0}, {\"data\": [{\"text\": \"what is the fee structure for ECE after concession?\", \"userDefined\": false}], \"isTemplate\": false, \"count\": 0, \"updated\": 0}, {\"data\": [{\"text\": \"Fee details for IT branch if my eamcet rank is below 3000?\", \"userDefined\": false}], \"isTemplate\": false, \"count\": 0, \"updated\": 0}, {\"data\": [{\"text\": \"what is the fee structure for IT branch after concession?\", \"userDefined\": false}], \"isTemplate\": false, \"count\": 0, \"updated\": 0}, {\"data\": [{\"text\": \"Fee details for mechanical if my eamcet rank is below 3000?\", \"userDefined\": false}], \"isTemplate\": false, \"count\": 0, \"updated\": 0}, {\"data\": [{\"text\": \"what is the fee structure for mechanical after concession?\", \"userDefined\": false}], \"isTemplate\": false, \"count\": 0, \"updated\": 0}, {\"data\": [{\"text\": \"what is the fee per annum?\", \"userDefined\": false}], \"isTemplate\": false, \"count\": 0, \"updated\": 0}]}'"
      ]
     },
     "execution_count": 20,
     "metadata": {},
     "output_type": "execute_result"
    }
   ],
   "source": [
    "content"
   ]
  },
  {
   "cell_type": "markdown",
   "metadata": {},
   "source": [
    "##### Create a json file with name fee.json and write the content value in int"
   ]
  },
  {
   "cell_type": "code",
   "execution_count": 21,
   "metadata": {},
   "outputs": [
    {
     "data": {
      "text/plain": [
       "'File Dataid is Completed Successfully'"
      ]
     },
     "execution_count": 21,
     "metadata": {},
     "output_type": "execute_result"
    }
   ],
   "source": [
    "def CreatingFile(filename):\n",
    "    f = open(filename, \"w\")\n",
    "    f.write(content)\n",
    "    return \"File Dataid is Completed Successfully\"\n",
    "CreatingFile(\"fee.json\")"
   ]
  }
 ],
 "metadata": {
  "kernelspec": {
   "display_name": "Python 3",
   "language": "python",
   "name": "python3"
  },
  "language_info": {
   "codemirror_mode": {
    "name": "ipython",
    "version": 3
   },
   "file_extension": ".py",
   "mimetype": "text/x-python",
   "name": "python",
   "nbconvert_exporter": "python",
   "pygments_lexer": "ipython3",
   "version": "3.7.1"
  }
 },
 "nbformat": 4,
 "nbformat_minor": 4
}
