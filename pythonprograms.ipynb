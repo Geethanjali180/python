{
 "cells": [
  {
   "cell_type": "markdown",
   "metadata": {},
   "source": [
    "## largest among three numbers\n",
    "#### input:6 8 3   output:8"
   ]
  },
  {
   "cell_type": "code",
   "execution_count": null,
   "metadata": {},
   "outputs": [],
   "source": [
    "\n",
    "a=int(input(\"Enter a\"))\n",
    "b=int(input(\"Enter b\"))\n",
    "c=int(input(\"Enter c\"))\n",
    "if(a>b and a>c):\n",
    "    print(\"a is largest\")\n",
    "elif(b>c):\n",
    "    print(\"b is largest\")\n",
    "else:\n",
    "    print(\"c is largest\")\n",
    "    "
   ]
  },
  {
   "cell_type": "markdown",
   "metadata": {},
   "source": [
    "## divisibility\n",
    "#### input: 6     output:True\n",
    "#### input:12    output:False"
   ]
  },
  {
   "cell_type": "code",
   "execution_count": 4,
   "metadata": {},
   "outputs": [
    {
     "name": "stdout",
     "output_type": "stream",
     "text": [
      "Enter a number6\n",
      "True\n"
     ]
    }
   ],
   "source": [
    "\n",
    "n=int(input(\"Enter a number\"))\n",
    "if((n%2==0 and n%3==0)and n%4!=0):\n",
    "    print(\"True\")\n",
    "else:\n",
    "    print(\"False\")\n",
    "    "
   ]
  },
  {
   "cell_type": "markdown",
   "metadata": {},
   "source": [
    "## If any one number is 10 return true OR sum of 2 num is 10 return true\n",
    "#### input:1 10  output:True\n",
    "#### input:9 9    output:False\n",
    "#### input:1 9    output:False"
   ]
  },
  {
   "cell_type": "code",
   "execution_count": 7,
   "metadata": {},
   "outputs": [
    {
     "name": "stdout",
     "output_type": "stream",
     "text": [
      "1\n",
      "9\n",
      "true\n"
     ]
    }
   ],
   "source": [
    "\n",
    "a=int(input())\n",
    "b=int(input())\n",
    "if(a==10 or b==10 or a+b==10):\n",
    "    print(\"true\")\n",
    "else:\n",
    "    print(\"false\")"
   ]
  },
  {
   "cell_type": "markdown",
   "metadata": {},
   "source": [
    "## print boolean value if in given range\n",
    "#### input: 1)93      2)89\n",
    "#### output: 1)True  2)False"
   ]
  },
  {
   "cell_type": "code",
   "execution_count": 9,
   "metadata": {},
   "outputs": [
    {
     "name": "stdout",
     "output_type": "stream",
     "text": [
      "89\n",
      "false\n"
     ]
    }
   ],
   "source": [
    "n=int(input())\n",
    "if(n>=90 and n<=100):\n",
    "    print(\"true\")\n",
    "elif(n>=190 and n<=200):\n",
    "    print(\"true\")\n",
    "else:\n",
    "    print(\"false\")"
   ]
  },
  {
   "cell_type": "markdown",
   "metadata": {},
   "source": [
    "## sum of N natural numbers\n",
    "#### input:5    output:15"
   ]
  },
  {
   "cell_type": "code",
   "execution_count": 10,
   "metadata": {},
   "outputs": [
    {
     "name": "stdout",
     "output_type": "stream",
     "text": [
      "5\n",
      "15\n"
     ]
    }
   ],
   "source": [
    "n=int(input())\n",
    "i=1\n",
    "s=0\n",
    "while(i<=n):\n",
    "    s=s+i\n",
    "    i=i+1\n",
    "print(s)\n"
   ]
  },
  {
   "cell_type": "markdown",
   "metadata": {},
   "source": [
    "## Factorial of number\n",
    "#### input:5    output:120\n",
    "#### input:6    output:720"
   ]
  },
  {
   "cell_type": "code",
   "execution_count": 11,
   "metadata": {},
   "outputs": [
    {
     "name": "stdout",
     "output_type": "stream",
     "text": [
      "5\n",
      "120\n"
     ]
    }
   ],
   "source": [
    "n=int(input())\n",
    "if(n<=0):\n",
    "    print(\"Not exist\")\n",
    "fact=1\n",
    "while(n!=0):\n",
    "    fact=fact*n\n",
    "    n=n-1\n",
    "print(fact)"
   ]
  },
  {
   "cell_type": "markdown",
   "metadata": {},
   "source": [
    "## squareroot of a number\n",
    "#### input:36     output:6"
   ]
  },
  {
   "cell_type": "code",
   "execution_count": 10,
   "metadata": {},
   "outputs": [
    {
     "name": "stdout",
     "output_type": "stream",
     "text": [
      "36\n",
      "6\n"
     ]
    }
   ],
   "source": [
    "import math\n",
    "n=int(input())\n",
    "s=math.sqrt(n)\n",
    "print(int(s))"
   ]
  },
  {
   "cell_type": "markdown",
   "metadata": {},
   "source": [
    "## Multiplication table"
   ]
  },
  {
   "cell_type": "code",
   "execution_count": 8,
   "metadata": {},
   "outputs": [
    {
     "name": "stdout",
     "output_type": "stream",
     "text": [
      "5\n",
      "5 * 1 = 5\n",
      "5 * 2 = 10\n",
      "5 * 3 = 15\n",
      "5 * 4 = 20\n",
      "5 * 5 = 25\n",
      "5 * 6 = 30\n",
      "5 * 7 = 35\n",
      "5 * 8 = 40\n",
      "5 * 9 = 45\n",
      "5 * 10 = 50\n"
     ]
    }
   ],
   "source": [
    "n=int(input())\n",
    "s=1\n",
    "while(s<=10):\n",
    "    o=n*s\n",
    "    print(n,\"*\",s,\"=\",o)\n",
    "    s=s+1"
   ]
  },
  {
   "cell_type": "markdown",
   "metadata": {},
   "source": [
    "## Strong number\n",
    "#### input:145       output:Strong"
   ]
  },
  {
   "cell_type": "code",
   "execution_count": 2,
   "metadata": {},
   "outputs": [
    {
     "name": "stdout",
     "output_type": "stream",
     "text": [
      "145\n",
      "Strong\n"
     ]
    }
   ],
   "source": [
    "n=int(input())\n",
    "temp=n\n",
    "s=0\n",
    "while(n!=0):\n",
    "    fact=1\n",
    "    r=n%10\n",
    "    while(r!=0):\n",
    "        fact=fact*r\n",
    "        r=r-1\n",
    "    s=s+fact\n",
    "    n=n//10\n",
    "if(temp==s):\n",
    "    print(\"Strong\")\n",
    "else:\n",
    "    print(\"Not strong\")\n"
   ]
  },
  {
   "cell_type": "markdown",
   "metadata": {},
   "source": [
    "## Factors of a given number\n",
    "#### input:6    output:1 2 3 6"
   ]
  },
  {
   "cell_type": "code",
   "execution_count": 3,
   "metadata": {},
   "outputs": [
    {
     "name": "stdout",
     "output_type": "stream",
     "text": [
      "6\n",
      "1 2 3 6 "
     ]
    }
   ],
   "source": [
    "n=int(input())\n",
    "i=1\n",
    "while(i<=n):\n",
    "    if(n%i==0):\n",
    "        print(i,end=\" \")\n",
    "    i=i+1"
   ]
  },
  {
   "cell_type": "markdown",
   "metadata": {},
   "source": [
    "## Perfect Number\n",
    "#### input:6     output:perfect"
   ]
  },
  {
   "cell_type": "code",
   "execution_count": 4,
   "metadata": {},
   "outputs": [
    {
     "name": "stdout",
     "output_type": "stream",
     "text": [
      "6\n",
      "Perfect\n"
     ]
    }
   ],
   "source": [
    "n=int(input())\n",
    "i=1\n",
    "s=0\n",
    "temp=n\n",
    "while(i<n):\n",
    "    if(n%i==0):\n",
    "        s=s+i\n",
    "    i=i+1\n",
    "if(s==temp):\n",
    "    print (\"Perfect\")\n",
    "else:\n",
    "    print(\"not perfect\")"
   ]
  },
  {
   "cell_type": "markdown",
   "metadata": {},
   "source": [
    "## Prime Number\n",
    "#### input:5       output:prime"
   ]
  },
  {
   "cell_type": "code",
   "execution_count": null,
   "metadata": {},
   "outputs": [
    {
     "name": "stdout",
     "output_type": "stream",
     "text": [
      "5\n"
     ]
    }
   ],
   "source": [
    "n=int(input())\n",
    "count=0\n",
    "i=1\n",
    "while(i<=n):\n",
    "    if(n%i==0):\n",
    "        count+=1\n",
    "if(count==2):\n",
    "    print(\"Prime\")\n",
    "else:\n",
    "    print(\"not prime\")"
   ]
  },
  {
   "cell_type": "markdown",
   "metadata": {},
   "source": [
    "## Armstrong\n",
    "#### input:153       output:Armstrong"
   ]
  },
  {
   "cell_type": "code",
   "execution_count": 3,
   "metadata": {},
   "outputs": [
    {
     "name": "stdout",
     "output_type": "stream",
     "text": [
      "153\n",
      "Armstrong\n"
     ]
    }
   ],
   "source": [
    "n=int(input())\n",
    "temp=n\n",
    "temp1=n\n",
    "count=0\n",
    "s=0\n",
    "while(n!=0):\n",
    "    r=n%10\n",
    "    count=count+1\n",
    "    n=n//10\n",
    "while(temp!=0):\n",
    "    r=temp%10\n",
    "    s=s+r**count\n",
    "    temp=temp//10\n",
    "if(temp1==s):\n",
    "    print(\"Armstrong\")\n",
    "else:\n",
    "    print(\"Not armstrong\")"
   ]
  },
  {
   "cell_type": "markdown",
   "metadata": {},
   "source": [
    "## Even or Odd\n",
    "#### input:28    output:even"
   ]
  },
  {
   "cell_type": "code",
   "execution_count": 2,
   "metadata": {},
   "outputs": [
    {
     "name": "stdout",
     "output_type": "stream",
     "text": [
      "58\n",
      "Even\n"
     ]
    }
   ],
   "source": [
    "\n",
    "n=int(input())\n",
    "if(n%2==0):\n",
    "    print(\"Even\")\n",
    "else:\n",
    "    print(\"odd\")"
   ]
  },
  {
   "cell_type": "markdown",
   "metadata": {},
   "source": [
    "## Prime numbers in given range\n",
    "#### input:1 10    output: 2 3 5 7"
   ]
  },
  {
   "cell_type": "code",
   "execution_count": 7,
   "metadata": {},
   "outputs": [
    {
     "name": "stdout",
     "output_type": "stream",
     "text": [
      "2\n",
      "10\n",
      "2 3 5 7 "
     ]
    }
   ],
   "source": [
    "\n",
    "s=int(input())\n",
    "n=int(input())\n",
    "count=0\n",
    "for i in range(s,n):\n",
    "    for j in range(1,n):\n",
    "        if(i%j==0):\n",
    "            count=count+1\n",
    "    if(count==2):\n",
    "        print(i,end=\" \")\n",
    "    count=0\n",
    "    \n",
    "\n"
   ]
  },
  {
   "cell_type": "markdown",
   "metadata": {},
   "source": [
    "## No of palindromes in given range\n",
    "#### input:10 30      output:2"
   ]
  },
  {
   "cell_type": "code",
   "execution_count": 12,
   "metadata": {},
   "outputs": [
    {
     "name": "stdout",
     "output_type": "stream",
     "text": [
      "10\n",
      "30\n",
      "2 "
     ]
    }
   ],
   "source": [
    "\n",
    "s=int(input())\n",
    "n=int(input())\n",
    "count=0\n",
    "for i in range(s,n):\n",
    "    rev=0\n",
    "    temp=i\n",
    "    while(i!=0):\n",
    "       \n",
    "        r=i%10\n",
    "        rev=rev*10+r\n",
    "        i=i//10\n",
    "    if(rev==temp):\n",
    "        count=count+1\n",
    "print(count,end=\" \")"
   ]
  },
  {
   "cell_type": "markdown",
   "metadata": {},
   "source": [
    "## String palindrome\n",
    "#### Input:racecar      output:yes"
   ]
  },
  {
   "cell_type": "code",
   "execution_count": 14,
   "metadata": {},
   "outputs": [
    {
     "name": "stdout",
     "output_type": "stream",
     "text": [
      "racecar\n",
      "yes\n"
     ]
    }
   ],
   "source": [
    "\n",
    "def rev(s):\n",
    "    return s[::-1]\n",
    "def isPalindrome(s):\n",
    "    r=rev(s)\n",
    "    if(s==r):\n",
    "        return True\n",
    "    return False\n",
    "s=input()\n",
    "ans=isPalindrome(s)\n",
    "if ans==1:\n",
    "    print(\"yes\")\n",
    "else:\n",
    "    print(\"no\")"
   ]
  },
  {
   "cell_type": "markdown",
   "metadata": {},
   "source": [
    "## Factorial procedure\n",
    "#### input:5      output:120"
   ]
  },
  {
   "cell_type": "code",
   "execution_count": 5,
   "metadata": {},
   "outputs": [
    {
     "name": "stdout",
     "output_type": "stream",
     "text": [
      "5\n"
     ]
    },
    {
     "data": {
      "text/plain": [
       "120"
      ]
     },
     "execution_count": 5,
     "metadata": {},
     "output_type": "execute_result"
    }
   ],
   "source": [
    "\n",
    "def fact(n):\n",
    "    f=1\n",
    "    while(n!=0):\n",
    "        f=f*n\n",
    "        n=n-1\n",
    "    return f\n",
    "n=int(input())\n",
    "fact(n)"
   ]
  },
  {
   "cell_type": "markdown",
   "metadata": {},
   "source": [
    "## Largest digit in given number\n",
    "#### input:3589     output:9"
   ]
  },
  {
   "cell_type": "code",
   "execution_count": 7,
   "metadata": {},
   "outputs": [
    {
     "name": "stdout",
     "output_type": "stream",
     "text": [
      "3589\n"
     ]
    },
    {
     "data": {
      "text/plain": [
       "9"
      ]
     },
     "execution_count": 7,
     "metadata": {},
     "output_type": "execute_result"
    }
   ],
   "source": [
    "\n",
    "def largest(n):\n",
    "    m=0\n",
    "    while(n!=0):\n",
    "        if(m<=(n%10)):\n",
    "            m=(n%10)\n",
    "        n=n//10\n",
    "    return m\n",
    "n=int(input())\n",
    "\n",
    "largest(n)"
   ]
  },
  {
   "cell_type": "markdown",
   "metadata": {},
   "source": [
    "## maximum number among given numbers\n",
    "#### input:8 5 1 3 9        output:9"
   ]
  },
  {
   "cell_type": "code",
   "execution_count": 14,
   "metadata": {},
   "outputs": [
    {
     "name": "stdout",
     "output_type": "stream",
     "text": [
      "5\n",
      "8\n",
      "5\n",
      "1\n",
      "3\n",
      "9\n",
      "max: 9\n"
     ]
    }
   ],
   "source": [
    "n=int(input())\n",
    "l=[]\n",
    "m=0\n",
    "for i in range(n):\n",
    "    no=int(input())\n",
    "    l.append(no)\n",
    "for i in range(0,len(l)):\n",
    "    if(m<=l[i]):\n",
    "        m=l[i]\n",
    "print(\"max:\",m)\n",
    "    "
   ]
  },
  {
   "cell_type": "markdown",
   "metadata": {},
   "source": [
    "## cocatenate\n",
    "#### input:p q ,2    output:p1,q1,p2,q2"
   ]
  },
  {
   "cell_type": "code",
   "execution_count": 4,
   "metadata": {},
   "outputs": [
    {
     "name": "stdout",
     "output_type": "stream",
     "text": [
      "4\n",
      "['p1', 'q1', 'p2', 'q2', 'p3', 'q3', 'p4', 'q4']\n"
     ]
    }
   ],
   "source": [
    "n=int(input())\n",
    "l=['p','q']\n",
    "l1=[]\n",
    "for i in range(1,n+1):\n",
    "    for j in range(0,len(l)):\n",
    "        l1.append(l[j]+str(i))\n",
    "print(l1)\n"
   ]
  },
  {
   "cell_type": "markdown",
   "metadata": {},
   "source": [
    "## count of every number in list"
   ]
  },
  {
   "cell_type": "code",
   "execution_count": null,
   "metadata": {},
   "outputs": [],
   "source": [
    "n=int(input())\n",
    "l=[]\n",
    "l1=[]\n",
    "le=len(l)\n",
    "for i in range(n):\n",
    "    no=int(input())\n",
    "    l.append(no)\n",
    "    l1.append(no)\n",
    "for i in range(0,len(l)):\n",
    "    count=0\n",
    "    for j in range(0,len(l1)):\n",
    "        if(l[i]==l1[j]):\n",
    "            count=count+1\n",
    "    print(l1[i],\":\",count)\n",
    "       \n",
    "        \n",
    "    \n",
    "    \n",
    "    "
   ]
  },
  {
   "cell_type": "markdown",
   "metadata": {},
   "source": [
    "## No of non prime factors"
   ]
  },
  {
   "cell_type": "code",
   "execution_count": 1,
   "metadata": {},
   "outputs": [
    {
     "name": "stdout",
     "output_type": "stream",
     "text": [
      "enter a number 50\n",
      "[2, 5, 25]\n",
      "1\n"
     ]
    }
   ],
   "source": [
    " def prime1(n):\n",
    "    count=0\n",
    "    for i in range(1,n):\n",
    "        if(n%i==0):\n",
    "            count=count+1\n",
    "    if(count==1):\n",
    "        return 1\n",
    "    else:\n",
    "        return 0\n",
    "def factors(n):\n",
    "    count=0\n",
    "    li=[]\n",
    "    for i in range(2,n+1):\n",
    "        if(n%i==0 and i%10):\n",
    "            li.append(i)\n",
    "    print(li)\n",
    "    for i in li:\n",
    "        x=prime1(i)\n",
    "        if(x==0):\n",
    "            count=count+1\n",
    "    print(count)\n",
    "n=int(input(\"enter a number \"))\n",
    "factors(n)  "
   ]
  },
  {
   "cell_type": "code",
   "execution_count": null,
   "metadata": {},
   "outputs": [],
   "source": []
  }
 ],
 "metadata": {
  "kernelspec": {
   "display_name": "Python 3",
   "language": "python",
   "name": "python3"
  },
  "language_info": {
   "codemirror_mode": {
    "name": "ipython",
    "version": 3
   },
   "file_extension": ".py",
   "mimetype": "text/x-python",
   "name": "python",
   "nbconvert_exporter": "python",
   "pygments_lexer": "ipython3",
   "version": "3.7.1"
  }
 },
 "nbformat": 4,
 "nbformat_minor": 2
}
