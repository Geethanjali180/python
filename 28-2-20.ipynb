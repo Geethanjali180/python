{
 "cells": [
  {
   "cell_type": "markdown",
   "metadata": {},
   "source": [
    "### strings and string related problems\n",
    "- string:sequence of characters\n",
    "- python:character and string\n",
    "- ord(char):represents the output in ASCII \n",
    "- chr(ASCII) :represnts output in character\n",
    "- ASCII\n",
    "    - A-Z:65-90\n",
    "    - a-z:97-122\n",
    "    - 0-9:48-57\n",
    "    - space:32\n"
   ]
  },
  {
   "cell_type": "code",
   "execution_count": 1,
   "metadata": {},
   "outputs": [
    {
     "name": "stdout",
     "output_type": "stream",
     "text": [
      "<class 'str'> <class 'str'>\n"
     ]
    }
   ],
   "source": [
    "s='a'\n",
    "s1='hello'\n",
    "print(type(s),type(s1))"
   ]
  },
  {
   "cell_type": "code",
   "execution_count": 3,
   "metadata": {},
   "outputs": [
    {
     "name": "stdout",
     "output_type": "stream",
     "text": [
      "helo\n",
      "['h', 'e', 'l', 'o']\n"
     ]
    }
   ],
   "source": [
    "#l=[]\n",
    "s=input()\n",
    "for i in range(len(s1)):\n",
    "    #l.append(s[i])\n",
    "    l=list(s)\n",
    "print(l)"
   ]
  },
  {
   "cell_type": "code",
   "execution_count": 8,
   "metadata": {},
   "outputs": [
    {
     "name": "stdout",
     "output_type": "stream",
     "text": [
      "HeLLoWorLd\n",
      "uppercase : 5 lowercase : 5\n"
     ]
    }
   ],
   "source": [
    "l=[]\n",
    "s=input()\n",
    "ucnt=0\n",
    "lcnt=0\n",
    "for i in range(len(s)):\n",
    "    if ord(s[i]) >= 65 and ord(s[i])<=90:\n",
    "        ucnt+=1\n",
    "    elif ord(s[i])>=97 and ord(s[i])<=122:\n",
    "        lcnt+=1\n",
    "    \n",
    "    \n",
    "print('uppercase : {} lowercase : {}'.format(ucnt,lcnt))"
   ]
  },
  {
   "cell_type": "code",
   "execution_count": 10,
   "metadata": {},
   "outputs": [],
   "source": [
    "# Appl1cat8io8on9\n",
    "#1889\n",
    "#8+8=16"
   ]
  },
  {
   "cell_type": "code",
   "execution_count": 17,
   "metadata": {},
   "outputs": [
    {
     "name": "stdout",
     "output_type": "stream",
     "text": [
      "aps9mnjs8nbhj8bqj1\n",
      "16\n"
     ]
    }
   ],
   "source": [
    "s=input()\n",
    "l=[]\n",
    "c=0\n",
    "for i in range(len(s)):\n",
    "    if ord(s[i]) >= 65 and ord(s[i])<=90:\n",
    "        pass\n",
    "    elif ord(s[i])>=97 and ord(s[i])<=122:\n",
    "        pass\n",
    "    else:\n",
    "        l.append(s[i])\n",
    "#print(l)\n",
    "\n",
    "for i in l:\n",
    "    if(int(i)%2==0):\n",
    "        c=c+int(i)\n",
    "print(c)"
   ]
  },
  {
   "cell_type": "code",
   "execution_count": 34,
   "metadata": {},
   "outputs": [
    {
     "name": "stdout",
     "output_type": "stream",
     "text": [
      "Mobile123Needs21works45and87user342\n"
     ]
    },
    {
     "ename": "IndexError",
     "evalue": "string index out of range",
     "output_type": "error",
     "traceback": [
      "\u001b[1;31m---------------------------------------------------------------------------\u001b[0m",
      "\u001b[1;31mIndexError\u001b[0m                                Traceback (most recent call last)",
      "\u001b[1;32m<ipython-input-34-6be3f96c37bc>\u001b[0m in \u001b[0;36m<module>\u001b[1;34m\u001b[0m\n\u001b[0;32m     17\u001b[0m         \u001b[1;32mbreak\u001b[0m\u001b[1;33m\u001b[0m\u001b[1;33m\u001b[0m\u001b[0m\n\u001b[0;32m     18\u001b[0m     \u001b[1;32mwhile\u001b[0m\u001b[1;33m(\u001b[0m\u001b[1;32mTrue\u001b[0m\u001b[1;33m)\u001b[0m\u001b[1;33m:\u001b[0m\u001b[1;33m\u001b[0m\u001b[1;33m\u001b[0m\u001b[0m\n\u001b[1;32m---> 19\u001b[1;33m         \u001b[1;32mif\u001b[0m \u001b[0ms\u001b[0m\u001b[1;33m[\u001b[0m\u001b[0mi\u001b[0m\u001b[1;33m]\u001b[0m\u001b[1;33m.\u001b[0m\u001b[0misdigit\u001b[0m\u001b[1;33m(\u001b[0m\u001b[1;33m)\u001b[0m\u001b[1;33m:\u001b[0m\u001b[1;33m\u001b[0m\u001b[1;33m\u001b[0m\u001b[0m\n\u001b[0m\u001b[0;32m     20\u001b[0m             \u001b[0mk\u001b[0m\u001b[1;33m=\u001b[0m\u001b[0mord\u001b[0m\u001b[1;33m(\u001b[0m\u001b[0ms\u001b[0m\u001b[1;33m[\u001b[0m\u001b[0mi\u001b[0m\u001b[1;33m]\u001b[0m\u001b[1;33m)\u001b[0m\u001b[1;33m-\u001b[0m\u001b[1;36m48\u001b[0m\u001b[1;33m\u001b[0m\u001b[1;33m\u001b[0m\u001b[0m\n\u001b[0;32m     21\u001b[0m             \u001b[0mnum\u001b[0m\u001b[1;33m=\u001b[0m\u001b[0mnum\u001b[0m\u001b[1;33m*\u001b[0m\u001b[1;36m10\u001b[0m \u001b[1;33m+\u001b[0m \u001b[0mk\u001b[0m\u001b[1;33m\u001b[0m\u001b[1;33m\u001b[0m\u001b[0m\n",
      "\u001b[1;31mIndexError\u001b[0m: string index out of range"
     ]
    }
   ],
   "source": [
    "# Mobile123Needs21works45and87user342\n",
    "#153 466\n",
    "s=input()\n",
    "c=0\n",
    "c1=0\n",
    "num=0\n",
    "def check(n):\n",
    "    cnt=0\n",
    "    while(n!=0):\n",
    "        cnt+=1\n",
    "        n=n//10\n",
    "    return cnt\n",
    "    \n",
    "for i in range(len(s)):\n",
    "    num=0\n",
    "    \n",
    "    while(True):\n",
    "        if s[i].isdigit():\n",
    "            k=ord(s[i])-48\n",
    "            num=num*10 + k\n",
    "            i+=1\n",
    "        else:\n",
    "            break\n",
    "        if check(num)==2:\n",
    "            c+=num\n",
    "        elif check(num)==3:\n",
    "            c1+=num\n",
    "print(c,c1)           "
   ]
  },
  {
   "cell_type": "code",
   "execution_count": 35,
   "metadata": {},
   "outputs": [
    {
     "ename": "SyntaxError",
     "evalue": "invalid syntax (<ipython-input-35-0dd1bd46782b>, line 3)",
     "output_type": "error",
     "traceback": [
      "\u001b[1;36m  File \u001b[1;32m\"<ipython-input-35-0dd1bd46782b>\"\u001b[1;36m, line \u001b[1;32m3\u001b[0m\n\u001b[1;33m    Input:\u001b[0m\n\u001b[1;37m          ^\u001b[0m\n\u001b[1;31mSyntaxError\u001b[0m\u001b[1;31m:\u001b[0m invalid syntax\n"
     ]
    }
   ],
   "source": [
    "# password encryption format\n",
    "# not spl chars and digits\n",
    "Input:\n",
    "# Abcd Aabc aabc\n",
    "# ABCD AABCDE AABC\n",
    "output:\n",
    "!@@!!!@@@@\n",
    "!@!!@@@!!!!@@@@@\n",
    "!@!!@@@\n"
   ]
  },
  {
   "cell_type": "code",
   "execution_count": 13,
   "metadata": {},
   "outputs": [
    {
     "name": "stdout",
     "output_type": "stream",
     "text": [
      "aabc abcd abcd\n",
      "!@!!@@@\n",
      "@!!@@@!!!!\n",
      "!@@!!!@@@@"
     ]
    }
   ],
   "source": [
    "s=input()\n",
    "s=s.upper()\n",
    "\n",
    "for i in range(len(s)):\n",
    "    if(s[i]==' '):\n",
    "        print()\n",
    "    else:\n",
    "        \n",
    "        c=ord(s[i])-64\n",
    "        if(i%2==0):\n",
    "            print('!'*c,end='')\n",
    "        else:\n",
    "            print('@'*c,end='')\n"
   ]
  },
  {
   "cell_type": "code",
   "execution_count": 2,
   "metadata": {},
   "outputs": [
    {
     "name": "stdout",
     "output_type": "stream",
     "text": [
      "1A2B3C4D\n",
      "ABBCCCDDDD"
     ]
    }
   ],
   "source": [
    "## 1A2B3C4D\n",
    "## ABBCCCDDDD\n",
    "s=input()\n",
    "for i in range(0,len(s),2):\n",
    "    j=int(s[i])\n",
    "    print(s[i+1]*j,end='')"
   ]
  },
  {
   "cell_type": "markdown",
   "metadata": {},
   "source": [
    "### oops in python\n",
    "- class: collection of data members and memeber functions\n",
    "    - data members: variables,list,tuple,list,dic\n",
    "    - member functions: methods and constructors\n",
    "    - class is logical entity it means which creates class it does not access memory\n",
    "- onject: physical entity\n",
    "- Inheritance:"
   ]
  },
  {
   "cell_type": "code",
   "execution_count": null,
   "metadata": {},
   "outputs": [],
   "source": []
  }
 ],
 "metadata": {
  "kernelspec": {
   "display_name": "Python 3",
   "language": "python",
   "name": "python3"
  },
  "language_info": {
   "codemirror_mode": {
    "name": "ipython",
    "version": 3
   },
   "file_extension": ".py",
   "mimetype": "text/x-python",
   "name": "python",
   "nbconvert_exporter": "python",
   "pygments_lexer": "ipython3",
   "version": "3.7.1"
  }
 },
 "nbformat": 4,
 "nbformat_minor": 2
}
