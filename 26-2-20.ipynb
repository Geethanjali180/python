{
 "cells": [
  {
   "cell_type": "markdown",
   "metadata": {},
   "source": [
    "### Functional programming\n",
    "- Reduce the complexity\n",
    "- Reuse the code\n",
    "- divides the lengthy program into sub blocks\n"
   ]
  },
  {
   "cell_type": "code",
   "execution_count": 1,
   "metadata": {},
   "outputs": [
    {
     "name": "stdout",
     "output_type": "stream",
     "text": [
      "test\n"
     ]
    }
   ],
   "source": [
    "def test():\n",
    "    print(\"test\")\n",
    "    return\n",
    "test()"
   ]
  },
  {
   "cell_type": "code",
   "execution_count": 2,
   "metadata": {},
   "outputs": [
    {
     "data": {
      "text/plain": [
       "123"
      ]
     },
     "execution_count": 2,
     "metadata": {},
     "output_type": "execute_result"
    }
   ],
   "source": [
    "def isTest(x):\n",
    "    return x\n",
    "a=123\n",
    "isTest(a)"
   ]
  },
  {
   "cell_type": "code",
   "execution_count": 3,
   "metadata": {},
   "outputs": [
    {
     "data": {
      "text/plain": [
       "[1, 2, 3]"
      ]
     },
     "execution_count": 3,
     "metadata": {},
     "output_type": "execute_result"
    }
   ],
   "source": [
    "def isTest(x):\n",
    "    return x\n",
    "a=[1,2,3]\n",
    "isTest(a)"
   ]
  },
  {
   "cell_type": "code",
   "execution_count": 4,
   "metadata": {},
   "outputs": [
    {
     "name": "stdout",
     "output_type": "stream",
     "text": [
      "123 <class 'int'>\n"
     ]
    }
   ],
   "source": [
    "def isTest(x):\n",
    "    return x\n",
    "a=123\n",
    "print(isTest(a),type(a))"
   ]
  },
  {
   "cell_type": "code",
   "execution_count": 5,
   "metadata": {},
   "outputs": [
    {
     "name": "stdout",
     "output_type": "stream",
     "text": [
      "[1, 2, 3] <class 'list'>\n"
     ]
    }
   ],
   "source": [
    "def isTest(x):\n",
    "    return x\n",
    "a=[1,2,3]\n",
    "print(isTest(a),type(a))"
   ]
  },
  {
   "cell_type": "code",
   "execution_count": 6,
   "metadata": {},
   "outputs": [
    {
     "data": {
      "text/plain": [
       "list"
      ]
     },
     "execution_count": 6,
     "metadata": {},
     "output_type": "execute_result"
    }
   ],
   "source": [
    "def isTest(x):\n",
    "    return type(x)\n",
    "a=[1,2,3]\n",
    "isTest(a)"
   ]
  },
  {
   "cell_type": "code",
   "execution_count": 8,
   "metadata": {},
   "outputs": [
    {
     "data": {
      "text/plain": [
       "int"
      ]
     },
     "execution_count": 8,
     "metadata": {},
     "output_type": "execute_result"
    }
   ],
   "source": [
    "def isTest(x):\n",
    "    return type(x)\n",
    "a=123\n",
    "isTest(a)"
   ]
  },
  {
   "cell_type": "markdown",
   "metadata": {},
   "source": [
    "### coding standards\n",
    "- variable name: num,num_test\n",
    "- function name: isTest(),test(),is_test()\n",
    "- constructor name: __init__\n",
    "- class name:Demo,DemoAbc\n",
    "- import package\n",
    "- from package import function1,function2\n",
    "- import package.function"
   ]
  },
  {
   "cell_type": "markdown",
   "metadata": {},
   "source": [
    "### external packages\n",
    "### regular expressions"
   ]
  },
  {
   "cell_type": "code",
   "execution_count": 9,
   "metadata": {},
   "outputs": [],
   "source": [
    "import re"
   ]
  },
  {
   "cell_type": "code",
   "execution_count": 11,
   "metadata": {},
   "outputs": [
    {
     "name": "stdout",
     "output_type": "stream",
     "text": [
      "True\n",
      "False\n"
     ]
    }
   ],
   "source": [
    "def two_digit_match(n):\n",
    "    pattern='^[0-9]{2}$'\n",
    "    n=str(n)\n",
    "    if re.match(pattern,n):\n",
    "        return True\n",
    "    return False\n",
    "print(two_digit_match(12))\n",
    "print(two_digit_match(123))"
   ]
  },
  {
   "cell_type": "code",
   "execution_count": 14,
   "metadata": {},
   "outputs": [
    {
     "name": "stdout",
     "output_type": "stream",
     "text": [
      "False\n",
      "True\n"
     ]
    }
   ],
   "source": [
    "def user_name(uname):\n",
    "    pattern='^[A-Z][a-z A-Z]{5,11}$'\n",
    "    if re.match(pattern,uname):\n",
    "        return True\n",
    "    return False\n",
    "print(user_name('Geethanjaliii'))\n",
    "print(user_name('Geetha'))"
   ]
  },
  {
   "cell_type": "markdown",
   "metadata": {},
   "source": [
    "## validate -DHS00120\n",
    "## DHS00120 -DHS00999"
   ]
  },
  {
   "cell_type": "code",
   "execution_count": 27,
   "metadata": {},
   "outputs": [
    {
     "name": "stdout",
     "output_type": "stream",
     "text": [
      "True\n"
     ]
    }
   ],
   "source": [
    "def validate(n):\n",
    "    pattern='^[D][H][S][0]{2}[1][2][0]'\n",
    "    \n",
    "    if re.match(pattern,n):\n",
    "        return True\n",
    "    return False\n",
    "print(validate('DHS00120'))"
   ]
  },
  {
   "cell_type": "code",
   "execution_count": 26,
   "metadata": {},
   "outputs": [
    {
     "name": "stdout",
     "output_type": "stream",
     "text": [
      "True\n",
      "False\n"
     ]
    }
   ],
   "source": [
    "def validate(n):\n",
    "    pattern='^[D][H][S][0]{2}[1-9][2-9][0-9]$'\n",
    "    \n",
    "    if re.match(pattern,n):\n",
    "        return True\n",
    "    return False\n",
    "print(validate('DHS00120'))\n",
    "print(validate('DHS00115'))"
   ]
  },
  {
   "cell_type": "code",
   "execution_count": 46,
   "metadata": {},
   "outputs": [
    {
     "name": "stdout",
     "output_type": "stream",
     "text": [
      "True\n",
      "True\n",
      "True\n",
      "False\n"
     ]
    }
   ],
   "source": [
    "def validate(n):\n",
    "    pattern='^[6-9][0-9]{9}$'\n",
    "    pattern1='^[0][6-9][0-9]{9}$'\n",
    "    pattern2='^[+][9][1][-][6-9][0-9]{9}$'\n",
    "    if re.match( pattern ,n):\n",
    "        return True\n",
    "    elif re.match(pattern1,n):\n",
    "        return True\n",
    "    elif re.match(pattern2,n):\n",
    "        return True\n",
    "    return False\n",
    "print(validate('9599118566'))\n",
    "print(validate('+91-9959911856'))\n",
    "print(validate('09599118566'))\n",
    "print(validate('+919959911856'))"
   ]
  },
  {
   "cell_type": "code",
   "execution_count": 53,
   "metadata": {},
   "outputs": [
    {
     "name": "stdout",
     "output_type": "stream",
     "text": [
      "False\n",
      "False\n",
      "False\n",
      "False\n"
     ]
    }
   ],
   "source": [
    "def validate(n):\n",
    "    pattern='^[6-9][0-9]{9}  | [0][6-9][0-9]{9} | [+][9][1][-][6-9][0-9]{9}$'\n",
    "   \n",
    "    if re.match( pattern ,n):\n",
    "        return True\n",
    "    \n",
    "    return False\n",
    "print(validate('9599118566'))\n",
    "print(validate('+91-9959911856'))\n",
    "print(validate('09599118566'))\n",
    "print(validate('+919959911856'))"
   ]
  },
  {
   "cell_type": "code",
   "execution_count": 51,
   "metadata": {},
   "outputs": [],
   "source": [
    "## Username validate\n",
    "# one uppercase\n",
    "# 6 lowercase\n",
    "# 1 digit"
   ]
  },
  {
   "cell_type": "code",
   "execution_count": null,
   "metadata": {},
   "outputs": [],
   "source": [
    "def user(name):\n",
    "    pattern='^[A-Z{1} a-z{6} 0-9{1}]$'\n",
    "    if re.match(pattern,n):\n",
    "        return True\n",
    "    return False\n",
    "print(user())"
   ]
  }
 ],
 "metadata": {
  "kernelspec": {
   "display_name": "Python 3",
   "language": "python",
   "name": "python3"
  },
  "language_info": {
   "codemirror_mode": {
    "name": "ipython",
    "version": 3
   },
   "file_extension": ".py",
   "mimetype": "text/x-python",
   "name": "python",
   "nbconvert_exporter": "python",
   "pygments_lexer": "ipython3",
   "version": "3.7.1"
  }
 },
 "nbformat": 4,
 "nbformat_minor": 2
}
