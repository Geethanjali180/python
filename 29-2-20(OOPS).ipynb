{
 "cells": [
  {
   "cell_type": "code",
   "execution_count": 28,
   "metadata": {},
   "outputs": [
    {
     "name": "stdout",
     "output_type": "stream",
     "text": [
      "2\n",
      "1 20\n",
      "[1, 2, 3, 4, 5, 6, 7, 8, 9, 1, 2, 3, 4, 5, 6, 7, 8, 9, 10, 2] [1, 4, 9, 16, 25, 36, 49, 64, 81, 1, 2, 5, 10, 17, 26, 37, 50, 65, 82, 4]\n",
      "[1, 10, 19, 2, 11, 4, 13, 6, 15, 1, 10, 19, 2, 11, 4, 13, 6, 15, 1, 10, 19]\n",
      "[10, 11, 13, 15]\n",
      "4\n",
      "120 130\n",
      "[3, 4, 5, 6, 7, 8, 9, 10, 11, 12, 4] [5, 6, 9, 14, 21, 30, 41, 54, 69, 86, 10]\n",
      "[0, 2, 4, 8]\n",
      "[0, 6]\n",
      "1\n"
     ]
    }
   ],
   "source": [
    "\n",
    "def sum1(x):\n",
    "    s=0\n",
    "    while(x>0):\n",
    "        r=x%10\n",
    "        s=s+r\n",
    "        x=x//10\n",
    "    \n",
    "    return s\n",
    "def square(y):\n",
    "    s1=0\n",
    "    while(y>0):\n",
    "        r=y%10\n",
    "        s1=s1+r*r\n",
    "        y=y//10\n",
    "    return s1\n",
    "def prime(z):\n",
    "    j=1\n",
    "    c=0\n",
    "    if(z==2):\n",
    "        return z\n",
    "    \n",
    "    else:\n",
    "        while(j<=z):\n",
    "            if(z%j==0):\n",
    "                c=c+1\n",
    "            j=j+1\n",
    "        if(c==2):\n",
    "            return z\n",
    "        else:\n",
    "            return 0\n",
    "        \n",
    "    \n",
    "\n",
    "t=int(input())\n",
    "for i in range(t):\n",
    "    a,b=map(int,input().split())\n",
    "    l=[]\n",
    "    l1=[]\n",
    "    l2=[]\n",
    "    l3=[]\n",
    "    l4=[]\n",
    "\n",
    "    for i in range(a,b+1):\n",
    "        l4.append(a)\n",
    "        l.append(sum1(a))\n",
    "        l1.append(square(a))\n",
    "        a=a+1\n",
    "    for i in range(len(l)):\n",
    "        res=prime(l[i])\n",
    "        if(res==0):\n",
    "            pass\n",
    "        else:\n",
    "            indexPosList = [ i for i in range(len(l)) if l[i] == res ]\n",
    "            l2=l2+indexPosList\n",
    "    for i in range(len(l)):\n",
    "        res=prime(l1[i])\n",
    "        if(res==0):\n",
    "            pass\n",
    "        else:\n",
    "            indexPosList = [ i for i in range(len(l1)) if l1[i] == res ]\n",
    "            l3=l3+indexPosList\n",
    " \n",
    " \n",
    "\n",
    "           \n",
    "    \n",
    "    s=set(l2)\n",
    "    s1=set(l3)\n",
    "    s2=s.intersection(s1)\n",
    "    k=list(s2)\n",
    "    #print(l,l1)\n",
    "   # print(l2)\n",
    "   # print(l3)\n",
    "    #print(indexPosList)\n",
    "    print(len(k))\n",
    "\n",
    "    \n",
    "    "
   ]
  },
  {
   "cell_type": "markdown",
   "metadata": {},
   "source": [
    "##### "
   ]
  },
  {
   "cell_type": "code",
   "execution_count": null,
   "metadata": {},
   "outputs": [],
   "source": []
  }
 ],
 "metadata": {
  "kernelspec": {
   "display_name": "Python 3",
   "language": "python",
   "name": "python3"
  },
  "language_info": {
   "codemirror_mode": {
    "name": "ipython",
    "version": 3
   },
   "file_extension": ".py",
   "mimetype": "text/x-python",
   "name": "python",
   "nbconvert_exporter": "python",
   "pygments_lexer": "ipython3",
   "version": "3.7.1"
  }
 },
 "nbformat": 4,
 "nbformat_minor": 2
}
