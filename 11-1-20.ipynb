{
 "cells": [
  {
   "cell_type": "code",
   "execution_count": 9,
   "metadata": {},
   "outputs": [
    {
     "name": "stdout",
     "output_type": "stream",
     "text": [
      "[['a', 'b', 'c'], ['d', 'e', 'f'], ['g', 'h', 'i']]\n"
     ]
    }
   ],
   "source": [
    "l=['abc','def','ghi']\n",
    "l1=[]\n",
    "for i in l:\n",
    "    x=i.split()\n",
    "    for j in x:\n",
    "        y=list(j)\n",
    "    l1.append(y)\n",
    "print(l1)"
   ]
  },
  {
   "cell_type": "code",
   "execution_count": 20,
   "metadata": {},
   "outputs": [
    {
     "name": "stdout",
     "output_type": "stream",
     "text": [
      "{1: 10, 2: 20, 3: 30, 4: 40, 5: 50, 6: 60}\n"
     ]
    }
   ],
   "source": [
    "d1={1:10,2:20}\n",
    "d2={3:30,4:40}\n",
    "d3={5:50,6:60}\n",
    "d1.update(d2)\n",
    "d1.update(d3)\n",
    "print(d1)"
   ]
  },
  {
   "cell_type": "code",
   "execution_count": 23,
   "metadata": {},
   "outputs": [
    {
     "name": "stdout",
     "output_type": "stream",
     "text": [
      "5\n",
      "Doesn't exist\n"
     ]
    }
   ],
   "source": [
    "d1={1:10,2:20,3:30,4:40}\n",
    "l=[]\n",
    "l=d1.keys()\n",
    "x=int(input())\n",
    "if x in l:\n",
    "    print(\"Already exists\")\n",
    "else:\n",
    "    print(\"Doesn't exist\")"
   ]
  },
  {
   "cell_type": "code",
   "execution_count": 36,
   "metadata": {},
   "outputs": [
    {
     "name": "stdout",
     "output_type": "stream",
     "text": [
      "[28, 40, 50, 60, 79, 82]\n",
      "[60, 79, 82]\n"
     ]
    }
   ],
   "source": [
    "d1={1:28,2:79,3:82,4:40,5:50,6:60}\n",
    "l=[]\n",
    "l=d1.values()\n",
    "l1=list(l)\n",
    "\n",
    "l1.sort()\n",
    "print(l1)\n",
    "print(l1[-3:])"
   ]
  },
  {
   "cell_type": "code",
   "execution_count": 39,
   "metadata": {},
   "outputs": [
    {
     "name": "stdout",
     "output_type": "stream",
     "text": [
      "143\n",
      "Three Four one "
     ]
    }
   ],
   "source": [
    "def name(r):\n",
    "    if(r==0):\n",
    "        print('zero',end=' ')\n",
    "    elif(r==1):\n",
    "        print('one',end=' ')\n",
    "    elif(r==2):\n",
    "        print('Two',end=' ')\n",
    "    elif(r==3):\n",
    "        print('Three',end=' ')\n",
    "    elif(r==4):\n",
    "        print('Four',end=' ')\n",
    "    elif(r==5):\n",
    "        print('Five',end=' ')\n",
    "    elif(r==6):\n",
    "        print('Six',end=' ')\n",
    "    elif(r==7):\n",
    "        print('Seven',end=' ')\n",
    "    elif(r==8):\n",
    "        print('Eight',end=' ')\n",
    "    elif(r==9):\n",
    "        print('Nine',end=' ')\n",
    "    \n",
    "n=int(input())\n",
    "while(n!=0):\n",
    "    r=n%10\n",
    "    name(r)\n",
    "    n=n//10"
   ]
  },
  {
   "cell_type": "code",
   "execution_count": 15,
   "metadata": {},
   "outputs": [
    {
     "name": "stdout",
     "output_type": "stream",
     "text": [
      "[[1, 2, 3, 4, 5], [6, 7, 8, 9, 10]]\n"
     ]
    }
   ],
   "source": [
    "l=[1,2,3,4,5,6,7,8,9,10]\n",
    "def divide_chunks(l, n): \n",
    "    for i in range(0, len(l), n):  \n",
    "        yield l[i:i + n] \n",
    "for i in range(2,9):\n",
    "    if(len(l)%i==0):\n",
    "        n = i\n",
    "x = list(divide_chunks(l, n)) \n",
    "print (x) \n",
    "    "
   ]
  },
  {
   "cell_type": "code",
   "execution_count": 17,
   "metadata": {},
   "outputs": [
    {
     "name": "stdout",
     "output_type": "stream",
     "text": [
      "123\n",
      "no\n"
     ]
    }
   ],
   "source": [
    "n=int(input())\n",
    "temp=n\n",
    "s=0\n",
    "while(n!=0):\n",
    "    fact=1\n",
    "    r=n%10\n",
    "    while(r!=0):\n",
    "        fact=fact*r\n",
    "        r=r-1\n",
    "    s=s+fact\n",
    "    n=n//10\n",
    "if(s==temp):\n",
    "    print('yes')\n",
    "else:\n",
    "    print(\"no\")"
   ]
  },
  {
   "cell_type": "code",
   "execution_count": 19,
   "metadata": {},
   "outputs": [
    {
     "name": "stdout",
     "output_type": "stream",
     "text": [
      "19872\n",
      "10\n"
     ]
    }
   ],
   "source": [
    "n=int(input())\n",
    "s=0\n",
    "while(n!=0):\n",
    "    r=n%10\n",
    "    if(r%2==0):\n",
    "        s=s+r\n",
    "    n=n//10\n",
    "print(s)\n",
    "        "
   ]
  },
  {
   "cell_type": "code",
   "execution_count": null,
   "metadata": {},
   "outputs": [],
   "source": []
  }
 ],
 "metadata": {
  "kernelspec": {
   "display_name": "Python 3",
   "language": "python",
   "name": "python3"
  },
  "language_info": {
   "codemirror_mode": {
    "name": "ipython",
    "version": 3
   },
   "file_extension": ".py",
   "mimetype": "text/x-python",
   "name": "python",
   "nbconvert_exporter": "python",
   "pygments_lexer": "ipython3",
   "version": "3.7.1"
  }
 },
 "nbformat": 4,
 "nbformat_minor": 2
}
