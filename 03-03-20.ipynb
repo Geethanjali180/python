{
 "cells": [
  {
   "cell_type": "markdown",
   "metadata": {},
   "source": [
    "### OOPS in python"
   ]
  },
  {
   "cell_type": "markdown",
   "metadata": {},
   "source": [
    "### Self in python:\n",
    "- Instance\n",
    "     - self represents the instance of the class.\n",
    "- Memory\n",
    "     - By using the “self” keyword we can access the attributes and methods of the class in python.\n",
    "- It binds the attributes with the given arguments.\n",
    "- It takes automatic initilazation."
   ]
  },
  {
   "cell_type": "code",
   "execution_count": 1,
   "metadata": {},
   "outputs": [
    {
     "name": "stdout",
     "output_type": "stream",
     "text": [
      "call() from Demo class\n"
     ]
    }
   ],
   "source": [
    "class Demo:\n",
    "    def call(self): # self takes automatic initiliazation\n",
    "        print(\"call() from Demo class\")\n",
    "        return\n",
    "# creating objects to class\n",
    "a=Demo() # Method/constructor \n",
    "a.call()"
   ]
  },
  {
   "cell_type": "code",
   "execution_count": 2,
   "metadata": {},
   "outputs": [
    {
     "data": {
      "text/plain": [
       "600"
      ]
     },
     "execution_count": 2,
     "metadata": {},
     "output_type": "execute_result"
    }
   ],
   "source": [
    "class Demo1:\n",
    "    def a1(self,a,b):\n",
    "        return a*b\n",
    "c1=Demo1()\n",
    "c1.a1(20,30)"
   ]
  },
  {
   "cell_type": "code",
   "execution_count": 11,
   "metadata": {},
   "outputs": [
    {
     "name": "stdout",
     "output_type": "stream",
     "text": [
      "enter a value10\n",
      "enter b value20\n",
      "10 20\n"
     ]
    }
   ],
   "source": [
    "# create a class with 2 methods\n",
    "# 1. accept_numbers()\n",
    "# 2.display_numbers()\n",
    "class Demo3:\n",
    "    def accept_numbers(self):\n",
    "        self.a=int(input(\"enter a value\"))\n",
    "        self.b=int(input(\"enter b value\"))\n",
    "        return\n",
    "    def display_numbers(self):\n",
    "        print(self.a,self.b)\n",
    "d1=Demo3()\n",
    "d1.accept_numbers()\n",
    "d1.display_numbers()"
   ]
  },
  {
   "cell_type": "markdown",
   "metadata": {},
   "source": [
    "- Static polymorphism or Compile- time polymorphism or Early Binding\n",
    "     - Function overloading\n",
    "            - Same function name with different parameters and implementation will be in a single class and we can invoke any function with different input arguments\n",
    "- Dynamic polymorphism or Run-time polymorphism or Late Binding\n",
    "     - Function overriding\n",
    "            - Same function name with same parameters and implementation will be in 2 different class i.e., it can be implemented with base class and derived class(inheritance) and  we can invoke any function with same input arguments"
   ]
  },
  {
   "cell_type": "markdown",
   "metadata": {},
   "source": [
    "#### Constructor in python:\n",
    "- Constructor can be written as two underscores at start and two underscore at the end and Name can be written as init\n",
    "- Constructor is special member in class which invokes(call) automatically when the class object is created\n",
    "- Constructor as special type of method as well\n",
    "- Methods are always invokes with the external statement with the help of class object"
   ]
  },
  {
   "cell_type": "code",
   "execution_count": 12,
   "metadata": {},
   "outputs": [
    {
     "name": "stdout",
     "output_type": "stream",
     "text": [
      "Constructor\n",
      "Method\n"
     ]
    }
   ],
   "source": [
    "class Demo4:\n",
    "    def __init__(self):\n",
    "        print('Constructor') # spl type of method (invokes with the help of object creation)\n",
    "        return\n",
    "    def display_numbers(self):\n",
    "        print('Method') # method (invokes with the help of object)\n",
    "        return\n",
    "aa1=Demo4()\n",
    "aa1.display_numbers()"
   ]
  },
  {
   "cell_type": "code",
   "execution_count": 1,
   "metadata": {},
   "outputs": [
    {
     "name": "stdout",
     "output_type": "stream",
     "text": [
      "10\n",
      "20\n",
      "10 20\n"
     ]
    }
   ],
   "source": [
    "# create a class with 1 method and 1 constructor\n",
    "# 1. __init__\n",
    "# 2.display_numbers()\n",
    "class Demo3:\n",
    "    def __init__(self):\n",
    "        self.a=int(input())\n",
    "        self.b=int(input())\n",
    "        return\n",
    "    def display_numbers(self):\n",
    "        print(self.a,self.b)\n",
    "        return \n",
    "d1=Demo3()\n",
    "d1.display_numbers()"
   ]
  },
  {
   "cell_type": "code",
   "execution_count": 4,
   "metadata": {},
   "outputs": [
    {
     "name": "stdout",
     "output_type": "stream",
     "text": [
      "10 20\n"
     ]
    }
   ],
   "source": [
    "# create a class with 1 method and 1 constructor\n",
    "# 1. __init__ with parameters\n",
    "# 2.display_numbers()\n",
    "class Demo3:\n",
    "    def __init__(self,a,b):\n",
    "        self.a=a\n",
    "        self.b=b\n",
    "        return\n",
    "    def display_numbers(self):\n",
    "        print(self.a,self.b)\n",
    "        return \n",
    "d1=Demo3(10,20)\n",
    "d1.display_numbers()"
   ]
  },
  {
   "cell_type": "markdown",
   "metadata": {},
   "source": [
    "### Inheritance in python\n",
    "- Creating the new class from the existing class can be called as inheritance\n",
    "- Used to get the properties of one class to another class\n",
    "- By using the inheritance we can increase the code reuseability\n",
    "- By using the inheritance we can remove the duplication of code "
   ]
  },
  {
   "cell_type": "code",
   "execution_count": 6,
   "metadata": {},
   "outputs": [
    {
     "name": "stdout",
     "output_type": "stream",
     "text": [
      "Update Email\n",
      "Login\n",
      "Register\n"
     ]
    }
   ],
   "source": [
    "class A:\n",
    "    def login(self):\n",
    "        print('Login')\n",
    "        return\n",
    "    def register(self):\n",
    "        print('Register')\n",
    "        return\n",
    "class B(A):\n",
    "    def update_email(self):\n",
    "        print('Update Email')\n",
    "        return\n",
    "obj=B()\n",
    "obj.update_email()\n",
    "obj.login()\n",
    "obj.register()"
   ]
  },
  {
   "cell_type": "code",
   "execution_count": 8,
   "metadata": {},
   "outputs": [
    {
     "name": "stdout",
     "output_type": "stream",
     "text": [
      "Class A2\n"
     ]
    }
   ],
   "source": [
    "class A1:\n",
    "    def login(self):\n",
    "        print('Class A1')\n",
    "        return\n",
    "class A2(A1):\n",
    "    def login(self):\n",
    "        print('Class A2')\n",
    "        return\n",
    "#obj=A1()\n",
    "#obj.login() # class A1\n",
    "obj=A2()\n",
    "obj.login() # class A2"
   ]
  }
 ],
 "metadata": {
  "kernelspec": {
   "display_name": "Python 3",
   "language": "python",
   "name": "python3"
  },
  "language_info": {
   "codemirror_mode": {
    "name": "ipython",
    "version": 3
   },
   "file_extension": ".py",
   "mimetype": "text/x-python",
   "name": "python",
   "nbconvert_exporter": "python",
   "pygments_lexer": "ipython3",
   "version": "3.7.1"
  }
 },
 "nbformat": 4,
 "nbformat_minor": 2
}
