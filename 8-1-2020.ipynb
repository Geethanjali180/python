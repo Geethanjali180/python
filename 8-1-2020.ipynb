{
 "cells": [
  {
   "cell_type": "markdown",
   "metadata": {},
   "source": [
    "### Tuples in python\n",
    "- Tuples are similar to list\n",
    "- used to read object data\n",
    "- List is mutable and tuple is immutable\n",
    "- list object can be used for insert,update,delete\n",
    "- tuple object can only support for reading\n",
    "- tuple can be defined as ()"
   ]
  },
  {
   "cell_type": "code",
   "execution_count": 3,
   "metadata": {},
   "outputs": [
    {
     "name": "stdout",
     "output_type": "stream",
     "text": [
      "()\n",
      "(1, 2, 3, 4)\n",
      "<class 'tuple'>\n"
     ]
    }
   ],
   "source": [
    "t1=()\n",
    "print(t1)\n",
    "t2=(1,2,3,4)\n",
    "print(t2)\n",
    "print(type(t2))"
   ]
  },
  {
   "cell_type": "code",
   "execution_count": 6,
   "metadata": {},
   "outputs": [
    {
     "name": "stdout",
     "output_type": "stream",
     "text": [
      "(1, 2, 3)\n"
     ]
    }
   ],
   "source": [
    "print(t2[0:3])"
   ]
  },
  {
   "cell_type": "code",
   "execution_count": 11,
   "metadata": {},
   "outputs": [
    {
     "name": "stdout",
     "output_type": "stream",
     "text": [
      "(1, 2, 3)\n"
     ]
    }
   ],
   "source": [
    "print(t2[:-1])"
   ]
  },
  {
   "cell_type": "code",
   "execution_count": 12,
   "metadata": {},
   "outputs": [
    {
     "ename": "TypeError",
     "evalue": "'tuple' object doesn't support item deletion",
     "output_type": "error",
     "traceback": [
      "\u001b[1;31m---------------------------------------------------------------------------\u001b[0m",
      "\u001b[1;31mTypeError\u001b[0m                                 Traceback (most recent call last)",
      "\u001b[1;32m<ipython-input-12-76212feb69ec>\u001b[0m in \u001b[0;36m<module>\u001b[1;34m\u001b[0m\n\u001b[1;32m----> 1\u001b[1;33m \u001b[1;32mdel\u001b[0m \u001b[0mt2\u001b[0m\u001b[1;33m[\u001b[0m\u001b[1;36m2\u001b[0m\u001b[1;33m]\u001b[0m\u001b[1;33m\u001b[0m\u001b[1;33m\u001b[0m\u001b[0m\n\u001b[0m",
      "\u001b[1;31mTypeError\u001b[0m: 'tuple' object doesn't support item deletion"
     ]
    }
   ],
   "source": [
    "del t2[2]"
   ]
  },
  {
   "cell_type": "code",
   "execution_count": 13,
   "metadata": {},
   "outputs": [
    {
     "name": "stdout",
     "output_type": "stream",
     "text": [
      "1 2 3 4 "
     ]
    }
   ],
   "source": [
    "for i in range(len(t2)):\n",
    "    print(t2[i],end=' ')"
   ]
  },
  {
   "cell_type": "markdown",
   "metadata": {},
   "source": [
    "### Dictionaries\n",
    "- general purpose data structure in python\n",
    "- dict object basically consists of key and value\n",
    "- dict object consists of unique key\n",
    "- dict object can be enclosed in {}\n",
    "- one pair key and value seperated by ,\n",
    "- every key and value seperated by :"
   ]
  },
  {
   "cell_type": "code",
   "execution_count": 17,
   "metadata": {},
   "outputs": [
    {
     "name": "stdout",
     "output_type": "stream",
     "text": [
      "{'name': 'geetha', 'no': 180, 'mailid': 'geethamuppuri@gmail.com'}\n",
      "<class 'dict'>\n"
     ]
    }
   ],
   "source": [
    "d={'name':'geetha','no':180,'mailid':'geethamuppuri@gmail.com'}\n",
    "print(d)\n",
    "print(type(d))"
   ]
  },
  {
   "cell_type": "code",
   "execution_count": 18,
   "metadata": {},
   "outputs": [
    {
     "name": "stdout",
     "output_type": "stream",
     "text": [
      "geetha\n"
     ]
    }
   ],
   "source": [
    "print(d['name'])"
   ]
  },
  {
   "cell_type": "code",
   "execution_count": 22,
   "metadata": {},
   "outputs": [
    {
     "data": {
      "text/plain": [
       "dict_keys(['name', 'no', 'mailid'])"
      ]
     },
     "execution_count": 22,
     "metadata": {},
     "output_type": "execute_result"
    }
   ],
   "source": [
    "d.keys()\n"
   ]
  },
  {
   "cell_type": "code",
   "execution_count": 23,
   "metadata": {},
   "outputs": [
    {
     "data": {
      "text/plain": [
       "dict_values(['geetha', 180, 'geethamuppuri@gmail.com'])"
      ]
     },
     "execution_count": 23,
     "metadata": {},
     "output_type": "execute_result"
    }
   ],
   "source": [
    "d.values()"
   ]
  },
  {
   "cell_type": "code",
   "execution_count": 24,
   "metadata": {},
   "outputs": [
    {
     "name": "stdout",
     "output_type": "stream",
     "text": [
      "dict_keys(['name', 'no', 'mailid'])\n"
     ]
    }
   ],
   "source": [
    "l=[]\n",
    "l=d.keys()\n",
    "print(l)"
   ]
  },
  {
   "cell_type": "code",
   "execution_count": 29,
   "metadata": {},
   "outputs": [
    {
     "name": "stdout",
     "output_type": "stream",
     "text": [
      "['name', 'no', 'mailid']\n"
     ]
    }
   ],
   "source": [
    "l=[]\n",
    "for i in d:\n",
    "    l.append(i)\n",
    "print(l)"
   ]
  },
  {
   "cell_type": "code",
   "execution_count": 30,
   "metadata": {},
   "outputs": [
    {
     "name": "stdout",
     "output_type": "stream",
     "text": [
      "['name', 'no', 'mailid']\n"
     ]
    }
   ],
   "source": [
    "l1=[]\n",
    "l1=list(d.keys())\n",
    "print(l1)"
   ]
  },
  {
   "cell_type": "code",
   "execution_count": 31,
   "metadata": {},
   "outputs": [
    {
     "name": "stdout",
     "output_type": "stream",
     "text": [
      "{'name': 'geethanjali', 'no': 180, 'mailid': 'geethamuppuri@gmail.com'}\n"
     ]
    }
   ],
   "source": [
    "d['name']='geethanjali'\n",
    "print(d)"
   ]
  },
  {
   "cell_type": "markdown",
   "metadata": {},
   "source": [
    "## Contact application\n",
    "    **list,tuple,dict**\n",
    "- Add a new contact details\n",
    "- Search contact\n",
    "- Modifying the contact\n",
    "- delete the contact\n",
    "- sort the contact list name-phone\n",
    "- one name should have 2 mobile numbers\n",
    "- print only names in sorted order\n"
   ]
  },
  {
   "cell_type": "code",
   "execution_count": 77,
   "metadata": {},
   "outputs": [
    {
     "name": "stdout",
     "output_type": "stream",
     "text": [
      "geetha Inserted successfully\n",
      "ram Inserted successfully\n",
      "sam Inserted successfully\n",
      "hari Inserted successfully\n",
      "shyam Inserted successfully\n",
      "kamal Inserted successfully\n",
      "ramesh Inserted successfully\n",
      "suresh Inserted successfully\n"
     ]
    }
   ],
   "source": [
    "contacts={} #empty dict\n",
    "def addContact(name,phone):\n",
    "    if name not in contacts:\n",
    "        contacts[name]=phone\n",
    "        print(name,\"Inserted successfully\")\n",
    "    else:\n",
    "        print(name,\"Already exist\")\n",
    "addContact('geetha',9959911956)\n",
    "addContact('ram',9392949621)\n",
    "addContact('sam',8297327651)\n",
    "addContact('hari',9951189641)\n",
    "addContact('shyam',9291365218)\n",
    "addContact('kamal',9981761239)\n",
    "addContact('ramesh',9812673981)\n",
    "addContact('suresh',9100460091)"
   ]
  },
  {
   "cell_type": "code",
   "execution_count": 47,
   "metadata": {},
   "outputs": [
    {
     "data": {
      "text/plain": [
       "{'geetha': 9959911956,\n",
       " 'ram': 9392949621,\n",
       " 'sam': 8297327651,\n",
       " 'hari': 9951189641,\n",
       " 'shyam': 9291365218,\n",
       " 'kamal': 9981761239,\n",
       " 'ramesh': 9812673981,\n",
       " 'suresh': 9100460091}"
      ]
     },
     "execution_count": 47,
     "metadata": {},
     "output_type": "execute_result"
    }
   ],
   "source": [
    "contacts"
   ]
  },
  {
   "cell_type": "code",
   "execution_count": 39,
   "metadata": {},
   "outputs": [
    {
     "name": "stdout",
     "output_type": "stream",
     "text": [
      "harmi\n",
      "Contact is not exist\n"
     ]
    }
   ],
   "source": [
    "def searchContact(name):\n",
    "    if name in contacts:\n",
    "        return (name,\":\",contacts[name])\n",
    "    else:\n",
    "        print(\"Contact is not exist\")\n",
    "name=input()\n",
    "searchContact(name)"
   ]
  },
  {
   "cell_type": "code",
   "execution_count": 42,
   "metadata": {},
   "outputs": [
    {
     "name": "stdout",
     "output_type": "stream",
     "text": [
      "harmi\n",
      "8106431171\n",
      "not exist\n"
     ]
    }
   ],
   "source": [
    "def modifyContact(name,phone):\n",
    "    if name in contacts:\n",
    "        contacts[name]=phone\n",
    "        print(\"updated successfully\")\n",
    "    else:\n",
    "        print(\"not exist\")\n",
    "name=input()\n",
    "phone=int(input())\n",
    "modifyContact(name,phone)"
   ]
  },
  {
   "cell_type": "code",
   "execution_count": 43,
   "metadata": {},
   "outputs": [
    {
     "name": "stdout",
     "output_type": "stream",
     "text": [
      "ram\n",
      "Deleted successfully\n"
     ]
    }
   ],
   "source": [
    "def delContact(name):\n",
    "    if name in contacts:\n",
    "        del contacts[name]\n",
    "        print(\"Deleted successfully\")\n",
    "    else:\n",
    "        print(\"not exist\")\n",
    "name=input()\n",
    "delContact(name)"
   ]
  },
  {
   "cell_type": "code",
   "execution_count": 44,
   "metadata": {},
   "outputs": [
    {
     "data": {
      "text/plain": [
       "{'geetha': 9959911856}"
      ]
     },
     "execution_count": 44,
     "metadata": {},
     "output_type": "execute_result"
    }
   ],
   "source": [
    "contacts"
   ]
  },
  {
   "cell_type": "code",
   "execution_count": 48,
   "metadata": {},
   "outputs": [
    {
     "name": "stdout",
     "output_type": "stream",
     "text": [
      "['geetha', 'hari', 'kamal', 'ram', 'ramesh', 'sam', 'shyam', 'suresh']\n"
     ]
    }
   ],
   "source": [
    "def sort1(contacts):\n",
    "    l=[]\n",
    "    l=list(contacts)\n",
    "    l.sort()\n",
    "    print(l)\n",
    "sort1(contacts)"
   ]
  },
  {
   "cell_type": "code",
   "execution_count": 56,
   "metadata": {},
   "outputs": [
    {
     "name": "stdout",
     "output_type": "stream",
     "text": [
      "geetha : 9959911956\n",
      "hari : 9951189641\n",
      "kamal : 9981761239\n",
      "ram : 9392949621\n",
      "ramesh : 9812673981\n",
      "sam : 8297327651\n",
      "shyam : 9291365218\n",
      "suresh : 9100460091\n"
     ]
    }
   ],
   "source": [
    "def sort2(contacts):\n",
    "    l=[]\n",
    "    l=list(contacts)\n",
    "    l.sort()\n",
    "    for i in l:\n",
    "        print(i,\":\",contacts[i])\n",
    "\n",
    "sort2(contacts)"
   ]
  },
  {
   "cell_type": "code",
   "execution_count": 53,
   "metadata": {},
   "outputs": [
    {
     "name": "stdout",
     "output_type": "stream",
     "text": [
      "{'geetha': 9959911956, 'hari': 9951189641, 'kamal': 9981761239, 'ram': 9392949621, 'ramesh': 9812673981, 'sam': 8297327651, 'shyam': 9291365218, 'suresh': 9100460091}\n"
     ]
    }
   ],
   "source": [
    "def sort3(contacts):\n",
    "    l=[]\n",
    "    l=list(contacts)\n",
    "    l.sort()\n",
    "    d={}\n",
    "    for i in l:\n",
    "        d[i]=contacts[i]\n",
    "    print(d)\n",
    "sort3(contacts)"
   ]
  },
  {
   "cell_type": "code",
   "execution_count": 79,
   "metadata": {},
   "outputs": [
    {
     "name": "stdout",
     "output_type": "stream",
     "text": [
      "{'geetha': (9959911956, 9160177457), 'ram': 9392949621, 'sam': 8297327651, 'hari': 9951189641, 'shyam': 9291365218, 'kamal': 9981761239, 'ramesh': 9812673981, 'suresh': 9100460091}\n"
     ]
    }
   ],
   "source": [
    "def addSecondNumber(name,phone1):\n",
    "    if name in contacts:\n",
    "        contacts[name]=contacts[name],phone1\n",
    "        \n",
    "        #print(name,\":\",contacts[name],\",\",phone1)\n",
    "    print(contacts)\n",
    "addSecondNumber('geetha',9160177457)\n",
    "        "
   ]
  },
  {
   "cell_type": "code",
   "execution_count": 2,
   "metadata": {},
   "outputs": [
    {
     "name": "stdout",
     "output_type": "stream",
     "text": [
      "[123, 234]\n"
     ]
    }
   ],
   "source": [
    "dict={\"name\":[123,234],\"age\":10}\n",
    "\n",
    "print(dict['name'])"
   ]
  },
  {
   "cell_type": "code",
   "execution_count": 5,
   "metadata": {},
   "outputs": [
    {
     "name": "stdout",
     "output_type": "stream",
     "text": [
      "1\n",
      "1000\n",
      "1 2 3 4 5 6 7 8 9 153 370 371 407 "
     ]
    }
   ],
   "source": [
    "a=int(input())\n",
    "b=int(input())\n",
    "\n",
    "for i in range(a,b):\n",
    "    temp=i\n",
    "    temp1=i\n",
    "    s=0\n",
    "    count=0\n",
    "    while(i!=0):\n",
    "        r=i%10\n",
    "        count=count+1\n",
    "        i=i//10\n",
    "    while(temp!=0):\n",
    "        r=temp%10\n",
    "        s=s+r**count\n",
    "        temp=temp//10\n",
    "    if(temp1==s):\n",
    "        print(temp1,end=' ')\n",
    "\n",
    "    "
   ]
  },
  {
   "cell_type": "markdown",
   "metadata": {},
   "source": [
    "## Sets"
   ]
  },
  {
   "cell_type": "code",
   "execution_count": 24,
   "metadata": {},
   "outputs": [
    {
     "name": "stdout",
     "output_type": "stream",
     "text": [
      "{1, 2, 3, 4, 5}\n",
      "<class 'set'>\n"
     ]
    }
   ],
   "source": [
    "a={1,2,3,4,5}\n",
    "print(a)\n",
    "print(type(a))"
   ]
  },
  {
   "cell_type": "code",
   "execution_count": 25,
   "metadata": {},
   "outputs": [
    {
     "name": "stdout",
     "output_type": "stream",
     "text": [
      "{1, 2, 3, 4, 5, 6}\n"
     ]
    }
   ],
   "source": [
    "a.add(6)\n",
    "print(a)"
   ]
  },
  {
   "cell_type": "code",
   "execution_count": 26,
   "metadata": {},
   "outputs": [
    {
     "name": "stdout",
     "output_type": "stream",
     "text": [
      "{1, 2, 3, 4, 5, 6, 10, 11}\n"
     ]
    }
   ],
   "source": [
    "a.update([4],[10,11])\n",
    "print(a)"
   ]
  },
  {
   "cell_type": "code",
   "execution_count": 13,
   "metadata": {},
   "outputs": [
    {
     "ename": "TypeError",
     "evalue": "add() takes exactly one argument (2 given)",
     "output_type": "error",
     "traceback": [
      "\u001b[1;31m---------------------------------------------------------------------------\u001b[0m",
      "\u001b[1;31mTypeError\u001b[0m                                 Traceback (most recent call last)",
      "\u001b[1;32m<ipython-input-13-51a064269323>\u001b[0m in \u001b[0;36m<module>\u001b[1;34m\u001b[0m\n\u001b[1;32m----> 1\u001b[1;33m \u001b[0ma\u001b[0m\u001b[1;33m.\u001b[0m\u001b[0madd\u001b[0m\u001b[1;33m(\u001b[0m\u001b[1;36m7\u001b[0m\u001b[1;33m,\u001b[0m\u001b[1;36m8\u001b[0m\u001b[1;33m)\u001b[0m\u001b[1;33m\u001b[0m\u001b[1;33m\u001b[0m\u001b[0m\n\u001b[0m\u001b[0;32m      2\u001b[0m \u001b[0mprint\u001b[0m\u001b[1;33m(\u001b[0m\u001b[0ma\u001b[0m\u001b[1;33m)\u001b[0m\u001b[1;33m\u001b[0m\u001b[1;33m\u001b[0m\u001b[0m\n",
      "\u001b[1;31mTypeError\u001b[0m: add() takes exactly one argument (2 given)"
     ]
    }
   ],
   "source": [
    "a.add(7,8)\n",
    "print(a)"
   ]
  },
  {
   "cell_type": "code",
   "execution_count": 27,
   "metadata": {},
   "outputs": [
    {
     "name": "stdout",
     "output_type": "stream",
     "text": [
      "{1, 2, 3, 4, 5, 6, 7, 8, 35, 10, 11, 30}\n"
     ]
    }
   ],
   "source": [
    "a.update([7,8],{1:'a',2:'b'},(30,35))\n",
    "print(a)"
   ]
  },
  {
   "cell_type": "code",
   "execution_count": 15,
   "metadata": {},
   "outputs": [
    {
     "name": "stdout",
     "output_type": "stream",
     "text": [
      "{1, 3, 4, 5, 6, 7, 8, 35, 10, 11, 30}\n"
     ]
    }
   ],
   "source": [
    "a.discard(2)\n",
    "print(a)"
   ]
  },
  {
   "cell_type": "code",
   "execution_count": 16,
   "metadata": {},
   "outputs": [
    {
     "name": "stdout",
     "output_type": "stream",
     "text": [
      "{1, 4, 5, 6, 7, 8, 35, 10, 11, 30}\n"
     ]
    }
   ],
   "source": [
    "a.remove(3)\n",
    "print(a)"
   ]
  },
  {
   "cell_type": "code",
   "execution_count": 17,
   "metadata": {},
   "outputs": [
    {
     "name": "stdout",
     "output_type": "stream",
     "text": [
      "{1, 4, 5, 6, 7, 8, 35, 10, 11, 30}\n"
     ]
    }
   ],
   "source": [
    "a.discard(2)  #If the number is already deleted also it will give the set without error\n",
    "print(a)"
   ]
  },
  {
   "cell_type": "code",
   "execution_count": 18,
   "metadata": {},
   "outputs": [
    {
     "ename": "KeyError",
     "evalue": "2",
     "output_type": "error",
     "traceback": [
      "\u001b[1;31m---------------------------------------------------------------------------\u001b[0m",
      "\u001b[1;31mKeyError\u001b[0m                                  Traceback (most recent call last)",
      "\u001b[1;32m<ipython-input-18-583207d30474>\u001b[0m in \u001b[0;36m<module>\u001b[1;34m\u001b[0m\n\u001b[1;32m----> 1\u001b[1;33m \u001b[0ma\u001b[0m\u001b[1;33m.\u001b[0m\u001b[0mremove\u001b[0m\u001b[1;33m(\u001b[0m\u001b[1;36m2\u001b[0m\u001b[1;33m)\u001b[0m\u001b[1;33m\u001b[0m\u001b[1;33m\u001b[0m\u001b[0m\n\u001b[0m\u001b[0;32m      2\u001b[0m \u001b[0mprint\u001b[0m\u001b[1;33m(\u001b[0m\u001b[0ma\u001b[0m\u001b[1;33m)\u001b[0m\u001b[1;33m\u001b[0m\u001b[1;33m\u001b[0m\u001b[0m\n",
      "\u001b[1;31mKeyError\u001b[0m: 2"
     ]
    }
   ],
   "source": [
    "a.remove(2)  #if the number is already deleted ,again we are deleting the same it will raise an error\n",
    "print(a)"
   ]
  },
  {
   "cell_type": "code",
   "execution_count": 28,
   "metadata": {},
   "outputs": [
    {
     "name": "stdout",
     "output_type": "stream",
     "text": [
      "{2, 3, 4, 5, 6, 7, 8, 35, 10, 11, 30}\n"
     ]
    }
   ],
   "source": [
    "a.pop()\n",
    "print(a)"
   ]
  },
  {
   "cell_type": "code",
   "execution_count": 39,
   "metadata": {},
   "outputs": [
    {
     "name": "stdout",
     "output_type": "stream",
     "text": [
      "{2, 3, 4, 5, 6, 7, 8, 35, 10, 11, 15, 18, 30}\n",
      "{2, 4, 7}\n",
      "{2, 3, 4, 5, 6, 7, 8, 35, 10, 11, 15, 18, 30}\n",
      "{2, 4, 7}\n",
      "{35, 3, 5, 6, 8, 10, 11, 30}\n"
     ]
    }
   ],
   "source": [
    "b={2,4,7,15,18}\n",
    "print(a.union(b))\n",
    "print(a.intersection(b))\n",
    "print(a|b)\n",
    "print(a&b)\n",
    "print(a-b)"
   ]
  },
  {
   "cell_type": "markdown",
   "metadata": {},
   "source": [
    "### Built in functions\n",
    "- all()\n",
    "- any()\n",
    "- min()\n",
    "- max()\n",
    "- len()\n",
    "- enumerate()\n",
    "- sorted()\n",
    "- sum()"
   ]
  },
  {
   "cell_type": "code",
   "execution_count": 41,
   "metadata": {},
   "outputs": [
    {
     "name": "stdout",
     "output_type": "stream",
     "text": [
      "True\n",
      "False\n",
      "True\n",
      "True\n"
     ]
    }
   ],
   "source": [
    "s={1,2,3,0}\n",
    "s1={1,4}\n",
    "print(any(s))\n",
    "print(all(s))\n",
    "print(all(s1))\n",
    "print(any(s1))"
   ]
  },
  {
   "cell_type": "code",
   "execution_count": 42,
   "metadata": {},
   "outputs": [
    {
     "name": "stdout",
     "output_type": "stream",
     "text": [
      "0\n",
      "3\n",
      "4\n",
      "6\n",
      "[0, 1, 2, 3]\n"
     ]
    }
   ],
   "source": [
    "print(min(s))\n",
    "print(max(s))\n",
    "print(len(s))\n",
    "print(sum(s))\n",
    "print(sorted(s))"
   ]
  },
  {
   "cell_type": "code",
   "execution_count": 44,
   "metadata": {},
   "outputs": [
    {
     "name": "stdout",
     "output_type": "stream",
     "text": [
      "[(0, 3), (1, 4), (2, 5)]\n"
     ]
    }
   ],
   "source": [
    "s2={3,4,5}\n",
    "print(list(enumerate(s2)))"
   ]
  },
  {
   "cell_type": "code",
   "execution_count": 3,
   "metadata": {},
   "outputs": [
    {
     "name": "stdout",
     "output_type": "stream",
     "text": [
      "swing\n",
      "sming"
     ]
    }
   ],
   "source": [
    "n=input()\n",
    "l=list(n)\n",
    "for i in range(0,len(l)):\n",
    "    if(l[i]=='w'):\n",
    "        l[i]='m'\n",
    "for i in l:\n",
    "    print (i,end='')\n",
    "        \n",
    "    "
   ]
  },
  {
   "cell_type": "code",
   "execution_count": 4,
   "metadata": {},
   "outputs": [
    {
     "name": "stdout",
     "output_type": "stream",
     "text": [
      "AghsdBTYed\n",
      "Capitals: 4\n",
      "Smalls: 6\n"
     ]
    }
   ],
   "source": [
    "n=input()\n",
    "l=list(n)\n",
    "count=0\n",
    "sum1=0\n",
    "for i in range(0,len(l)):\n",
    "    if(l[i]>='A' and l[i]<='Z'):\n",
    "        count=count+1\n",
    "    else:\n",
    "        sum1=sum1+1\n",
    "print(\"Capitals:\",count)\n",
    "print(\"Smalls:\",sum1)\n",
    "        "
   ]
  },
  {
   "cell_type": "code",
   "execution_count": 17,
   "metadata": {},
   "outputs": [
    {
     "name": "stdout",
     "output_type": "stream",
     "text": [
      "( a , e ) ( b , e ) ( c , e ) ( d , e ) ( e , e ) "
     ]
    }
   ],
   "source": [
    "l=['a','b','c','d','e']\n",
    "for i in range(0,len(l)):\n",
    "    print(\"(\",l[i],\",\",l[-1],\")\",end=\" \")\n",
    "    "
   ]
  },
  {
   "cell_type": "code",
   "execution_count": 24,
   "metadata": {},
   "outputs": [
    {
     "name": "stdout",
     "output_type": "stream",
     "text": [
      "the fog is the one fog which is fog\n",
      "the is the one which is "
     ]
    }
   ],
   "source": [
    "s=input()\n",
    "s=s.split(' ')\n",
    "l=list(s)\n",
    "l1=[]\n",
    "for i in range(0,len(l)):\n",
    "    if(l[i]!='fog'):\n",
    "        l1.append(l[i])\n",
    "    else:\n",
    "        pass\n",
    "for i in l1:\n",
    "    print(i,end=' ')"
   ]
  },
  {
   "cell_type": "code",
   "execution_count": null,
   "metadata": {},
   "outputs": [],
   "source": []
  }
 ],
 "metadata": {
  "kernelspec": {
   "display_name": "Python 3",
   "language": "python",
   "name": "python3"
  },
  "language_info": {
   "codemirror_mode": {
    "name": "ipython",
    "version": 3
   },
   "file_extension": ".py",
   "mimetype": "text/x-python",
   "name": "python",
   "nbconvert_exporter": "python",
   "pygments_lexer": "ipython3",
   "version": "3.7.1"
  }
 },
 "nbformat": 4,
 "nbformat_minor": 2
}
